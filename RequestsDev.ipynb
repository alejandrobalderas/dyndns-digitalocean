{
 "cells": [
  {
   "cell_type": "code",
   "execution_count": 185,
   "id": "pediatric-russell",
   "metadata": {},
   "outputs": [],
   "source": [
    "import requests\n",
    "import os\n",
    "import json"
   ]
  },
  {
   "cell_type": "code",
   "execution_count": 186,
   "id": "extreme-begin",
   "metadata": {},
   "outputs": [],
   "source": [
    "domain = \"balderas.de\"\n",
    "subdomain = \"test\"\n",
    "apikey = os.environ[\"apikey\"]"
   ]
  },
  {
   "cell_type": "code",
   "execution_count": 187,
   "id": "varied-interest",
   "metadata": {},
   "outputs": [],
   "source": [
    "url = f\"https://api.digitalocean.com/v2/domains/{domain}/records\"\n",
    "headers = {\n",
    "    \"Authorization\": f\"Bearer {apikey}\",\n",
    "    \"Content-Type\": \"application/json\"\n",
    "}\n",
    "params = {\n",
    "    \"type\": \"A\",\n",
    "    \"name\": f\"{subdomain}.{domain}\"\n",
    "}"
   ]
  },
  {
   "cell_type": "code",
   "execution_count": 207,
   "id": "becoming-perry",
   "metadata": {},
   "outputs": [],
   "source": [
    "r = requests.get(url, headers=headers, params=params)\n",
    "record_id = r.json()[\"domain_records\"][0][\"id\"]\n",
    "record_url = url + f\"/{record_id}\"\n",
    "\n",
    "current_ip = requests.get(\"https://ifconfig.me\").text\n",
    "\n",
    "update_ip = {\n",
    "    \"data\": \"0.0.0.90\"\n",
    "    #\"data\": f\"{current_ip}\"\n",
    "}"
   ]
  },
  {
   "cell_type": "code",
   "execution_count": 208,
   "id": "authentic-poker",
   "metadata": {},
   "outputs": [],
   "source": [
    "r = requests.get(record_url, headers=headers)"
   ]
  },
  {
   "cell_type": "code",
   "execution_count": 209,
   "id": "previous-error",
   "metadata": {},
   "outputs": [
    {
     "data": {
      "text/plain": [
       "{'domain_record': {'id': 141512538,\n",
       "  'type': 'A',\n",
       "  'name': 'test',\n",
       "  'data': '77.37.99.114',\n",
       "  'priority': None,\n",
       "  'port': None,\n",
       "  'ttl': 3600,\n",
       "  'weight': None,\n",
       "  'flags': None,\n",
       "  'tag': None}}"
      ]
     },
     "execution_count": 209,
     "metadata": {},
     "output_type": "execute_result"
    }
   ],
   "source": [
    "r.json()"
   ]
  },
  {
   "cell_type": "code",
   "execution_count": 210,
   "id": "restricted-wright",
   "metadata": {},
   "outputs": [],
   "source": [
    "r = requests.put(record_url, headers=headers, data=json.dumps(update_ip))"
   ]
  },
  {
   "cell_type": "code",
   "execution_count": 211,
   "id": "knowing-spokesman",
   "metadata": {},
   "outputs": [
    {
     "data": {
      "text/plain": [
       "{'domain_record': {'id': 141512538,\n",
       "  'type': 'A',\n",
       "  'name': 'test',\n",
       "  'data': '0.0.0.0',\n",
       "  'priority': None,\n",
       "  'port': None,\n",
       "  'ttl': 3600,\n",
       "  'weight': None,\n",
       "  'flags': None,\n",
       "  'tag': None}}"
      ]
     },
     "execution_count": 211,
     "metadata": {},
     "output_type": "execute_result"
    }
   ],
   "source": [
    "r.json()"
   ]
  },
  {
   "cell_type": "code",
   "execution_count": null,
   "id": "accepted-connectivity",
   "metadata": {},
   "outputs": [],
   "source": []
  },
  {
   "cell_type": "code",
   "execution_count": null,
   "id": "unknown-collapse",
   "metadata": {},
   "outputs": [],
   "source": []
  },
  {
   "cell_type": "code",
   "execution_count": 194,
   "id": "sacred-juvenile",
   "metadata": {},
   "outputs": [
    {
     "data": {
      "text/plain": [
       "141512538"
      ]
     },
     "execution_count": 194,
     "metadata": {},
     "output_type": "execute_result"
    }
   ],
   "source": [
    "record_id"
   ]
  },
  {
   "cell_type": "code",
   "execution_count": 195,
   "id": "previous-reynolds",
   "metadata": {},
   "outputs": [
    {
     "data": {
      "text/plain": [
       "'77.37.99.114'"
      ]
     },
     "execution_count": 195,
     "metadata": {},
     "output_type": "execute_result"
    }
   ],
   "source": [
    "current_ip"
   ]
  },
  {
   "cell_type": "code",
   "execution_count": null,
   "id": "effective-prefix",
   "metadata": {},
   "outputs": [],
   "source": []
  },
  {
   "cell_type": "code",
   "execution_count": 177,
   "id": "secret-despite",
   "metadata": {},
   "outputs": [],
   "source": [
    "current_ip = requests.get(\"https://ifconfig.me\").text"
   ]
  },
  {
   "cell_type": "code",
   "execution_count": 178,
   "id": "vulnerable-haiti",
   "metadata": {},
   "outputs": [],
   "source": [
    "r = requests.get(url, headers=headers, params=params)"
   ]
  },
  {
   "cell_type": "code",
   "execution_count": 179,
   "id": "suspected-eugene",
   "metadata": {},
   "outputs": [
    {
     "data": {
      "text/plain": [
       "200"
      ]
     },
     "execution_count": 179,
     "metadata": {},
     "output_type": "execute_result"
    }
   ],
   "source": [
    "r.status_code"
   ]
  },
  {
   "cell_type": "code",
   "execution_count": 183,
   "id": "moving-external",
   "metadata": {},
   "outputs": [
    {
     "data": {
      "text/plain": [
       "141512538"
      ]
     },
     "execution_count": 183,
     "metadata": {},
     "output_type": "execute_result"
    }
   ],
   "source": [
    "r.json()[\"domain_records\"][0][\"id\"]"
   ]
  },
  {
   "cell_type": "code",
   "execution_count": 150,
   "id": "attractive-reverse",
   "metadata": {},
   "outputs": [],
   "source": [
    "create_body = {\n",
    "    \"type\": \"A\",\n",
    "    \"name\": \"test2\",\n",
    "    \"data\" : \"0.0.0.1\"\n",
    "}"
   ]
  },
  {
   "cell_type": "code",
   "execution_count": 151,
   "id": "confident-fleece",
   "metadata": {},
   "outputs": [],
   "source": [
    "r = requests.post(url, headers=headers, data=json.dumps(create_body))"
   ]
  },
  {
   "cell_type": "code",
   "execution_count": 152,
   "id": "electrical-server",
   "metadata": {},
   "outputs": [
    {
     "data": {
      "text/plain": [
       "201"
      ]
     },
     "execution_count": 152,
     "metadata": {},
     "output_type": "execute_result"
    }
   ],
   "source": [
    "r.status_code"
   ]
  },
  {
   "cell_type": "code",
   "execution_count": 153,
   "id": "opening-gross",
   "metadata": {},
   "outputs": [],
   "source": [
    "update_body = {\n",
    "    \"name\": \"newtest\"\n",
    "}"
   ]
  },
  {
   "cell_type": "code",
   "execution_count": 159,
   "id": "adult-dublin",
   "metadata": {},
   "outputs": [],
   "source": [
    "update_url = \"https://api.digitalocean.com/v2/domains/balderas.de/records/141515305\""
   ]
  },
  {
   "cell_type": "code",
   "execution_count": 165,
   "id": "legitimate-combination",
   "metadata": {},
   "outputs": [],
   "source": [
    "r = requests.put(update_url, headers=headers, data=json.dumps(update_body))"
   ]
  },
  {
   "cell_type": "code",
   "execution_count": 166,
   "id": "circular-royal",
   "metadata": {},
   "outputs": [
    {
     "data": {
      "text/plain": [
       "200"
      ]
     },
     "execution_count": 166,
     "metadata": {},
     "output_type": "execute_result"
    }
   ],
   "source": [
    "r.status_code"
   ]
  },
  {
   "cell_type": "code",
   "execution_count": 167,
   "id": "adverse-sewing",
   "metadata": {},
   "outputs": [
    {
     "data": {
      "text/plain": [
       "{'domain_record': {'id': 141515305,\n",
       "  'type': 'A',\n",
       "  'name': 'newtest',\n",
       "  'data': '0.0.0.1',\n",
       "  'priority': None,\n",
       "  'port': None,\n",
       "  'ttl': 1800,\n",
       "  'weight': None,\n",
       "  'flags': None,\n",
       "  'tag': None}}"
      ]
     },
     "execution_count": 167,
     "metadata": {},
     "output_type": "execute_result"
    }
   ],
   "source": [
    "r.json()"
   ]
  },
  {
   "cell_type": "code",
   "execution_count": 157,
   "id": "exact-layout",
   "metadata": {},
   "outputs": [],
   "source": [
    "x = r.json()[\"domain_records\"][0]"
   ]
  },
  {
   "cell_type": "code",
   "execution_count": 158,
   "id": "honey-tender",
   "metadata": {},
   "outputs": [
    {
     "data": {
      "text/plain": [
       "{'id': 141515305,\n",
       " 'type': 'A',\n",
       " 'name': 'test2',\n",
       " 'data': '0.0.0.1',\n",
       " 'priority': None,\n",
       " 'port': None,\n",
       " 'ttl': 1800,\n",
       " 'weight': None,\n",
       " 'flags': None,\n",
       " 'tag': None}"
      ]
     },
     "execution_count": 158,
     "metadata": {},
     "output_type": "execute_result"
    }
   ],
   "source": [
    "x"
   ]
  },
  {
   "cell_type": "code",
   "execution_count": 136,
   "id": "built-picnic",
   "metadata": {},
   "outputs": [],
   "source": [
    "record_id = x[\"id\"]"
   ]
  },
  {
   "cell_type": "code",
   "execution_count": 137,
   "id": "demographic-extra",
   "metadata": {},
   "outputs": [
    {
     "data": {
      "text/plain": [
       "141514927"
      ]
     },
     "execution_count": 137,
     "metadata": {},
     "output_type": "execute_result"
    }
   ],
   "source": [
    "record_id"
   ]
  },
  {
   "cell_type": "code",
   "execution_count": 113,
   "id": "forbidden-kuwait",
   "metadata": {},
   "outputs": [],
   "source": [
    "update_body = {\n",
    "    \"data\" : f\"{current_ip}\"\n",
    "}"
   ]
  },
  {
   "cell_type": "code",
   "execution_count": 138,
   "id": "hollywood-acting",
   "metadata": {},
   "outputs": [],
   "source": [
    "record_url = url + f\"/{record_id}\""
   ]
  },
  {
   "cell_type": "code",
   "execution_count": 139,
   "id": "designed-penny",
   "metadata": {},
   "outputs": [
    {
     "data": {
      "text/plain": [
       "'https://api.digitalocean.com/v2/domains/balderas.de/records/141514927'"
      ]
     },
     "execution_count": 139,
     "metadata": {},
     "output_type": "execute_result"
    }
   ],
   "source": [
    "record_url"
   ]
  },
  {
   "cell_type": "code",
   "execution_count": 140,
   "id": "gothic-bridal",
   "metadata": {},
   "outputs": [],
   "source": [
    "r = requests.get(record_url, headers=headers)"
   ]
  },
  {
   "cell_type": "code",
   "execution_count": 141,
   "id": "ultimate-seafood",
   "metadata": {},
   "outputs": [
    {
     "data": {
      "text/plain": [
       "200"
      ]
     },
     "execution_count": 141,
     "metadata": {},
     "output_type": "execute_result"
    }
   ],
   "source": [
    "r.status_code"
   ]
  },
  {
   "cell_type": "code",
   "execution_count": 142,
   "id": "virtual-beauty",
   "metadata": {},
   "outputs": [
    {
     "data": {
      "text/plain": [
       "{'id': 141514927,\n",
       " 'type': 'A',\n",
       " 'name': 'test2',\n",
       " 'data': '0.0.0.0',\n",
       " 'priority': None,\n",
       " 'port': None,\n",
       " 'ttl': 3600,\n",
       " 'weight': None,\n",
       " 'flags': None,\n",
       " 'tag': None}"
      ]
     },
     "execution_count": 142,
     "metadata": {},
     "output_type": "execute_result"
    }
   ],
   "source": [
    "r.json()[\"domain_record\"]"
   ]
  },
  {
   "cell_type": "code",
   "execution_count": 126,
   "id": "unlimited-resource",
   "metadata": {},
   "outputs": [],
   "source": [
    "r = requests.post(record_url, headers=headers, data = '{\"name\":\"blog\"}')"
   ]
  },
  {
   "cell_type": "code",
   "execution_count": 127,
   "id": "humanitarian-contrary",
   "metadata": {},
   "outputs": [
    {
     "data": {
      "text/plain": [
       "404"
      ]
     },
     "execution_count": 127,
     "metadata": {},
     "output_type": "execute_result"
    }
   ],
   "source": [
    "r.status_code"
   ]
  },
  {
   "cell_type": "code",
   "execution_count": 128,
   "id": "complicated-cancellation",
   "metadata": {},
   "outputs": [
    {
     "data": {
      "text/plain": [
       "'{\"id\":\"not_found\",\"message\":\"The resource you were accessing could not be found.\"}'"
      ]
     },
     "execution_count": 128,
     "metadata": {},
     "output_type": "execute_result"
    }
   ],
   "source": [
    "r.text"
   ]
  },
  {
   "cell_type": "code",
   "execution_count": null,
   "id": "hybrid-miami",
   "metadata": {},
   "outputs": [],
   "source": []
  },
  {
   "cell_type": "code",
   "execution_count": 92,
   "id": "dated-antique",
   "metadata": {},
   "outputs": [],
   "source": [
    "r = requests.post(url, headers=headers, data=json.dumps(update_body))"
   ]
  },
  {
   "cell_type": "code",
   "execution_count": 93,
   "id": "sudden-dimension",
   "metadata": {},
   "outputs": [
    {
     "data": {
      "text/plain": [
       "404"
      ]
     },
     "execution_count": 93,
     "metadata": {},
     "output_type": "execute_result"
    }
   ],
   "source": [
    "r.status_code"
   ]
  },
  {
   "cell_type": "code",
   "execution_count": 94,
   "id": "moderate-render",
   "metadata": {},
   "outputs": [
    {
     "data": {
      "text/plain": [
       "'{\"id\":\"not_found\",\"message\":\"The resource you were accessing could not be found.\"}'"
      ]
     },
     "execution_count": 94,
     "metadata": {},
     "output_type": "execute_result"
    }
   ],
   "source": [
    "r.text"
   ]
  },
  {
   "cell_type": "code",
   "execution_count": 62,
   "id": "intermediate-kelly",
   "metadata": {},
   "outputs": [
    {
     "data": {
      "text/plain": [
       "['mail', '@']"
      ]
     },
     "execution_count": 62,
     "metadata": {},
     "output_type": "execute_result"
    }
   ],
   "source": [
    "[rec[\"name\"] for rec in x if rec[\"type\"]==\"A\"]"
   ]
  },
  {
   "cell_type": "code",
   "execution_count": 63,
   "id": "cathedral-compatibility",
   "metadata": {},
   "outputs": [
    {
     "data": {
      "text/plain": [
       "'balderas.de'"
      ]
     },
     "execution_count": 63,
     "metadata": {},
     "output_type": "execute_result"
    }
   ],
   "source": [
    "domain"
   ]
  },
  {
   "cell_type": "code",
   "execution_count": 64,
   "id": "furnished-account",
   "metadata": {},
   "outputs": [
    {
     "data": {
      "text/plain": [
       "[{'id': 129252812,\n",
       "  'type': 'SOA',\n",
       "  'name': '@',\n",
       "  'data': '1800',\n",
       "  'priority': None,\n",
       "  'port': None,\n",
       "  'ttl': 1800,\n",
       "  'weight': None,\n",
       "  'flags': None,\n",
       "  'tag': None},\n",
       " {'id': 129252813,\n",
       "  'type': 'NS',\n",
       "  'name': '@',\n",
       "  'data': 'ns1.digitalocean.com',\n",
       "  'priority': None,\n",
       "  'port': None,\n",
       "  'ttl': 1800,\n",
       "  'weight': None,\n",
       "  'flags': None,\n",
       "  'tag': None},\n",
       " {'id': 129252814,\n",
       "  'type': 'NS',\n",
       "  'name': '@',\n",
       "  'data': 'ns2.digitalocean.com',\n",
       "  'priority': None,\n",
       "  'port': None,\n",
       "  'ttl': 1800,\n",
       "  'weight': None,\n",
       "  'flags': None,\n",
       "  'tag': None},\n",
       " {'id': 129252815,\n",
       "  'type': 'NS',\n",
       "  'name': '@',\n",
       "  'data': 'ns3.digitalocean.com',\n",
       "  'priority': None,\n",
       "  'port': None,\n",
       "  'ttl': 1800,\n",
       "  'weight': None,\n",
       "  'flags': None,\n",
       "  'tag': None},\n",
       " {'id': 131389179,\n",
       "  'type': 'CNAME',\n",
       "  'name': 'cloud',\n",
       "  'data': 'balderas.cloudns.cl',\n",
       "  'priority': None,\n",
       "  'port': None,\n",
       "  'ttl': 1800,\n",
       "  'weight': None,\n",
       "  'flags': None,\n",
       "  'tag': None},\n",
       " {'id': 131749821,\n",
       "  'type': 'CNAME',\n",
       "  'name': 'server',\n",
       "  'data': 'balderas.cloudns.cl',\n",
       "  'priority': None,\n",
       "  'port': None,\n",
       "  'ttl': 1800,\n",
       "  'weight': None,\n",
       "  'flags': None,\n",
       "  'tag': None},\n",
       " {'id': 132100334,\n",
       "  'type': 'A',\n",
       "  'name': 'mail',\n",
       "  'data': '207.154.232.85',\n",
       "  'priority': None,\n",
       "  'port': None,\n",
       "  'ttl': 1800,\n",
       "  'weight': None,\n",
       "  'flags': None,\n",
       "  'tag': None},\n",
       " {'id': 132121861,\n",
       "  'type': 'MX',\n",
       "  'name': '@',\n",
       "  'data': 'mail.balderas.de',\n",
       "  'priority': 0,\n",
       "  'port': None,\n",
       "  'ttl': 1800,\n",
       "  'weight': None,\n",
       "  'flags': None,\n",
       "  'tag': None},\n",
       " {'id': 132121980,\n",
       "  'type': 'TXT',\n",
       "  'name': '@',\n",
       "  'data': 'v=spf1 ip4:207.154.232.85 -all',\n",
       "  'priority': None,\n",
       "  'port': None,\n",
       "  'ttl': 3600,\n",
       "  'weight': None,\n",
       "  'flags': None,\n",
       "  'tag': None},\n",
       " {'id': 132122049,\n",
       "  'type': 'TXT',\n",
       "  'name': '_dmarc',\n",
       "  'data': 'v=DMARC1;p=quarantine;',\n",
       "  'priority': None,\n",
       "  'port': None,\n",
       "  'ttl': 3600,\n",
       "  'weight': None,\n",
       "  'flags': None,\n",
       "  'tag': None},\n",
       " {'id': 132124372,\n",
       "  'type': 'TXT',\n",
       "  'name': 'dkim._domainkey',\n",
       "  'data': 'v=DKIM1;k=rsa;t=s;s=email;p=MIIBIjANBgkqhkiG9w0BAQEFAAOCAQ8AMIIBCgKCAQEA1JUc1zgGtI1eaSyAPm5aXXBSheDKryGN/zAQ2EPBqTfRniSC5TQFpyetH8uRRSLY4l5z99wtsXxa5fbcavI2MczKKDE2/4dfTOQty9pvehyf1Xx2aucCvIrJJGA6VcdkZfhg6ThEtZAK5C27BDOYNuVtEoieeNJA83+xiy+QOFy1M6w2NUVHkKO6nXKK5n5PF63Td5zg9TZAsrCi4g7tcaTl/8M7ODPfnxnmeWh6z/CegUudKVb4Gr9Vy2y9iy1X6d4iUzGyIFXHh5Y9eMOP0F5WAndLH9PPGBWbPq3bGPcPHa7l2Ad+hpVC2wP8dwc1Dcj/ErLtUuguffTJiDE3LQIDAQAB',\n",
       "  'priority': None,\n",
       "  'port': None,\n",
       "  'ttl': 3600,\n",
       "  'weight': None,\n",
       "  'flags': None,\n",
       "  'tag': None},\n",
       " {'id': 132204188,\n",
       "  'type': 'SRV',\n",
       "  'name': '_autodiscover._tcp',\n",
       "  'data': 'mail.balderas.de',\n",
       "  'priority': 0,\n",
       "  'port': 443,\n",
       "  'ttl': 43200,\n",
       "  'weight': 1,\n",
       "  'flags': None,\n",
       "  'tag': None},\n",
       " {'id': 132204259,\n",
       "  'type': 'SRV',\n",
       "  'name': '_imaps._tcp',\n",
       "  'data': 'mail.balderas.de',\n",
       "  'priority': 0,\n",
       "  'port': 993,\n",
       "  'ttl': 43200,\n",
       "  'weight': 1,\n",
       "  'flags': None,\n",
       "  'tag': None},\n",
       " {'id': 132204330,\n",
       "  'type': 'SRV',\n",
       "  'name': '_smtps._tcp',\n",
       "  'data': 'mail.balderas.de',\n",
       "  'priority': 0,\n",
       "  'port': 465,\n",
       "  'ttl': 43200,\n",
       "  'weight': 1,\n",
       "  'flags': None,\n",
       "  'tag': None},\n",
       " {'id': 132204359,\n",
       "  'type': 'SRV',\n",
       "  'name': '_submission._tcp',\n",
       "  'data': 'mail.balderas.de',\n",
       "  'priority': 0,\n",
       "  'port': 587,\n",
       "  'ttl': 43200,\n",
       "  'weight': 1,\n",
       "  'flags': None,\n",
       "  'tag': None},\n",
       " {'id': 132204508,\n",
       "  'type': 'SRV',\n",
       "  'name': '_imap._tcp',\n",
       "  'data': 'mail.balderas.de',\n",
       "  'priority': 0,\n",
       "  'port': 143,\n",
       "  'ttl': 43200,\n",
       "  'weight': 1,\n",
       "  'flags': None,\n",
       "  'tag': None},\n",
       " {'id': 133219881,\n",
       "  'type': 'A',\n",
       "  'name': '@',\n",
       "  'data': '46.101.136.74',\n",
       "  'priority': None,\n",
       "  'port': None,\n",
       "  'ttl': 3600,\n",
       "  'weight': None,\n",
       "  'flags': None,\n",
       "  'tag': None},\n",
       " {'id': 133221287,\n",
       "  'type': 'CNAME',\n",
       "  'name': 'autodiscover',\n",
       "  'data': 'mail.balderas.de',\n",
       "  'priority': None,\n",
       "  'port': None,\n",
       "  'ttl': 1800,\n",
       "  'weight': None,\n",
       "  'flags': None,\n",
       "  'tag': None},\n",
       " {'id': 133221324,\n",
       "  'type': 'CNAME',\n",
       "  'name': 'autoconfig',\n",
       "  'data': 'mail.balderas.de',\n",
       "  'priority': None,\n",
       "  'port': None,\n",
       "  'ttl': 1800,\n",
       "  'weight': None,\n",
       "  'flags': None,\n",
       "  'tag': None},\n",
       " {'id': 133223153,\n",
       "  'type': 'SRV',\n",
       "  'name': '_autodiscover._tcp.mail',\n",
       "  'data': 'mail.balderas.de',\n",
       "  'priority': 0,\n",
       "  'port': 443,\n",
       "  'ttl': 43200,\n",
       "  'weight': 1,\n",
       "  'flags': None,\n",
       "  'tag': None}]"
      ]
     },
     "execution_count": 64,
     "metadata": {},
     "output_type": "execute_result"
    }
   ],
   "source": [
    "x"
   ]
  },
  {
   "cell_type": "code",
   "execution_count": null,
   "id": "conventional-tenant",
   "metadata": {},
   "outputs": [],
   "source": []
  },
  {
   "cell_type": "code",
   "execution_count": 26,
   "id": "regulated-tolerance",
   "metadata": {},
   "outputs": [
    {
     "data": {
      "text/plain": [
       "{'Date': 'Sat, 20 Mar 2021 11:30:16 GMT', 'Content-Type': 'application/json; charset=utf-8', 'Transfer-Encoding': 'chunked', 'Connection': 'keep-alive', 'Set-Cookie': '__cfduid=d90ae83abc16d48dcd8a6f558446016701616239815; expires=Mon, 19-Apr-21 11:30:15 GMT; path=/; domain=.digitalocean.com; HttpOnly; SameSite=Lax', 'Cache-Control': 'max-age=0, private, must-revalidate', 'Ratelimit-Limit': '5000', 'Ratelimit-Remaining': '4998', 'Ratelimit-Reset': '1616239672', 'X-Gateway': 'Edge-Gateway', 'X-Request-Id': '8524f5c9-03f1-47a6-80ff-7ba2b4ce16fd', 'X-Response-From': 'service', 'CF-Cache-Status': 'DYNAMIC', 'cf-request-id': '08f0ff852000002b29ffb49000000001', 'Expect-CT': 'max-age=604800, report-uri=\"https://report-uri.cloudflare.com/cdn-cgi/beacon/expect-ct\"', 'Server': 'cloudflare', 'CF-RAY': '632e9b81caf72b29-FRA', 'Content-Encoding': 'gzip'}"
      ]
     },
     "execution_count": 26,
     "metadata": {},
     "output_type": "execute_result"
    }
   ],
   "source": [
    "r.headers"
   ]
  },
  {
   "cell_type": "code",
   "execution_count": 9,
   "id": "prerequisite-spray",
   "metadata": {
    "collapsed": true,
    "jupyter": {
     "outputs_hidden": true
    },
    "tags": []
   },
   "outputs": [
    {
     "data": {
      "text/plain": [
       "'{\"domain_records\":[{\"id\":129252812,\"type\":\"SOA\",\"name\":\"@\",\"data\":\"1800\",\"priority\":null,\"port\":null,\"ttl\":1800,\"weight\":null,\"flags\":null,\"tag\":null},{\"id\":129252813,\"type\":\"NS\",\"name\":\"@\",\"data\":\"ns1.digitalocean.com\",\"priority\":null,\"port\":null,\"ttl\":1800,\"weight\":null,\"flags\":null,\"tag\":null},{\"id\":129252814,\"type\":\"NS\",\"name\":\"@\",\"data\":\"ns2.digitalocean.com\",\"priority\":null,\"port\":null,\"ttl\":1800,\"weight\":null,\"flags\":null,\"tag\":null},{\"id\":129252815,\"type\":\"NS\",\"name\":\"@\",\"data\":\"ns3.digitalocean.com\",\"priority\":null,\"port\":null,\"ttl\":1800,\"weight\":null,\"flags\":null,\"tag\":null},{\"id\":131389179,\"type\":\"CNAME\",\"name\":\"cloud\",\"data\":\"balderas.cloudns.cl\",\"priority\":null,\"port\":null,\"ttl\":1800,\"weight\":null,\"flags\":null,\"tag\":null},{\"id\":131749821,\"type\":\"CNAME\",\"name\":\"server\",\"data\":\"balderas.cloudns.cl\",\"priority\":null,\"port\":null,\"ttl\":1800,\"weight\":null,\"flags\":null,\"tag\":null},{\"id\":132096582,\"type\":\"CNAME\",\"name\":\"*\",\"data\":\"balderas.cloudns.cl\",\"priority\":null,\"port\":null,\"ttl\":43200,\"weight\":null,\"flags\":null,\"tag\":null},{\"id\":132100334,\"type\":\"A\",\"name\":\"mail\",\"data\":\"207.154.232.85\",\"priority\":null,\"port\":null,\"ttl\":1800,\"weight\":null,\"flags\":null,\"tag\":null},{\"id\":132121861,\"type\":\"MX\",\"name\":\"@\",\"data\":\"mail.balderas.de\",\"priority\":0,\"port\":null,\"ttl\":1800,\"weight\":null,\"flags\":null,\"tag\":null},{\"id\":132121980,\"type\":\"TXT\",\"name\":\"@\",\"data\":\"v=spf1 ip4:207.154.232.85 -all\",\"priority\":null,\"port\":null,\"ttl\":3600,\"weight\":null,\"flags\":null,\"tag\":null},{\"id\":132122049,\"type\":\"TXT\",\"name\":\"_dmarc\",\"data\":\"v=DMARC1;p=quarantine;\",\"priority\":null,\"port\":null,\"ttl\":3600,\"weight\":null,\"flags\":null,\"tag\":null},{\"id\":132124372,\"type\":\"TXT\",\"name\":\"dkim._domainkey\",\"data\":\"v=DKIM1;k=rsa;t=s;s=email;p=MIIBIjANBgkqhkiG9w0BAQEFAAOCAQ8AMIIBCgKCAQEA1JUc1zgGtI1eaSyAPm5aXXBSheDKryGN/zAQ2EPBqTfRniSC5TQFpyetH8uRRSLY4l5z99wtsXxa5fbcavI2MczKKDE2/4dfTOQty9pvehyf1Xx2aucCvIrJJGA6VcdkZfhg6ThEtZAK5C27BDOYNuVtEoieeNJA83+xiy+QOFy1M6w2NUVHkKO6nXKK5n5PF63Td5zg9TZAsrCi4g7tcaTl/8M7ODPfnxnmeWh6z/CegUudKVb4Gr9Vy2y9iy1X6d4iUzGyIFXHh5Y9eMOP0F5WAndLH9PPGBWbPq3bGPcPHa7l2Ad+hpVC2wP8dwc1Dcj/ErLtUuguffTJiDE3LQIDAQAB\",\"priority\":null,\"port\":null,\"ttl\":3600,\"weight\":null,\"flags\":null,\"tag\":null},{\"id\":132204188,\"type\":\"SRV\",\"name\":\"_autodiscover._tcp\",\"data\":\"mail.balderas.de\",\"priority\":0,\"port\":443,\"ttl\":43200,\"weight\":1,\"flags\":null,\"tag\":null},{\"id\":132204259,\"type\":\"SRV\",\"name\":\"_imaps._tcp\",\"data\":\"mail.balderas.de\",\"priority\":0,\"port\":993,\"ttl\":43200,\"weight\":1,\"flags\":null,\"tag\":null},{\"id\":132204330,\"type\":\"SRV\",\"name\":\"_smtps._tcp\",\"data\":\"mail.balderas.de\",\"priority\":0,\"port\":465,\"ttl\":43200,\"weight\":1,\"flags\":null,\"tag\":null},{\"id\":132204359,\"type\":\"SRV\",\"name\":\"_submission._tcp\",\"data\":\"mail.balderas.de\",\"priority\":0,\"port\":587,\"ttl\":43200,\"weight\":1,\"flags\":null,\"tag\":null},{\"id\":132204508,\"type\":\"SRV\",\"name\":\"_imap._tcp\",\"data\":\"mail.balderas.de\",\"priority\":0,\"port\":143,\"ttl\":43200,\"weight\":1,\"flags\":null,\"tag\":null},{\"id\":133219881,\"type\":\"A\",\"name\":\"@\",\"data\":\"46.101.136.74\",\"priority\":null,\"port\":null,\"ttl\":3600,\"weight\":null,\"flags\":null,\"tag\":null},{\"id\":133221287,\"type\":\"CNAME\",\"name\":\"autodiscover\",\"data\":\"mail.balderas.de\",\"priority\":null,\"port\":null,\"ttl\":1800,\"weight\":null,\"flags\":null,\"tag\":null},{\"id\":133221324,\"type\":\"CNAME\",\"name\":\"autoconfig\",\"data\":\"mail.balderas.de\",\"priority\":null,\"port\":null,\"ttl\":1800,\"weight\":null,\"flags\":null,\"tag\":null}],\"links\":{\"pages\":{\"last\":\"https://api.digitalocean.com/v2/domains/balderas.de/records?page=2&per_page=20\",\"next\":\"https://api.digitalocean.com/v2/domains/balderas.de/records?page=2&per_page=20\"}},\"meta\":{\"total\":31}}\\n'"
      ]
     },
     "execution_count": 9,
     "metadata": {},
     "output_type": "execute_result"
    }
   ],
   "source": [
    "r.text"
   ]
  },
  {
   "cell_type": "code",
   "execution_count": 10,
   "id": "complex-directory",
   "metadata": {
    "collapsed": true,
    "jupyter": {
     "outputs_hidden": true
    },
    "tags": []
   },
   "outputs": [
    {
     "data": {
      "text/plain": [
       "{'domain_records': [{'id': 129252812,\n",
       "   'type': 'SOA',\n",
       "   'name': '@',\n",
       "   'data': '1800',\n",
       "   'priority': None,\n",
       "   'port': None,\n",
       "   'ttl': 1800,\n",
       "   'weight': None,\n",
       "   'flags': None,\n",
       "   'tag': None},\n",
       "  {'id': 129252813,\n",
       "   'type': 'NS',\n",
       "   'name': '@',\n",
       "   'data': 'ns1.digitalocean.com',\n",
       "   'priority': None,\n",
       "   'port': None,\n",
       "   'ttl': 1800,\n",
       "   'weight': None,\n",
       "   'flags': None,\n",
       "   'tag': None},\n",
       "  {'id': 129252814,\n",
       "   'type': 'NS',\n",
       "   'name': '@',\n",
       "   'data': 'ns2.digitalocean.com',\n",
       "   'priority': None,\n",
       "   'port': None,\n",
       "   'ttl': 1800,\n",
       "   'weight': None,\n",
       "   'flags': None,\n",
       "   'tag': None},\n",
       "  {'id': 129252815,\n",
       "   'type': 'NS',\n",
       "   'name': '@',\n",
       "   'data': 'ns3.digitalocean.com',\n",
       "   'priority': None,\n",
       "   'port': None,\n",
       "   'ttl': 1800,\n",
       "   'weight': None,\n",
       "   'flags': None,\n",
       "   'tag': None},\n",
       "  {'id': 131389179,\n",
       "   'type': 'CNAME',\n",
       "   'name': 'cloud',\n",
       "   'data': 'balderas.cloudns.cl',\n",
       "   'priority': None,\n",
       "   'port': None,\n",
       "   'ttl': 1800,\n",
       "   'weight': None,\n",
       "   'flags': None,\n",
       "   'tag': None},\n",
       "  {'id': 131749821,\n",
       "   'type': 'CNAME',\n",
       "   'name': 'server',\n",
       "   'data': 'balderas.cloudns.cl',\n",
       "   'priority': None,\n",
       "   'port': None,\n",
       "   'ttl': 1800,\n",
       "   'weight': None,\n",
       "   'flags': None,\n",
       "   'tag': None},\n",
       "  {'id': 132096582,\n",
       "   'type': 'CNAME',\n",
       "   'name': '*',\n",
       "   'data': 'balderas.cloudns.cl',\n",
       "   'priority': None,\n",
       "   'port': None,\n",
       "   'ttl': 43200,\n",
       "   'weight': None,\n",
       "   'flags': None,\n",
       "   'tag': None},\n",
       "  {'id': 132100334,\n",
       "   'type': 'A',\n",
       "   'name': 'mail',\n",
       "   'data': '207.154.232.85',\n",
       "   'priority': None,\n",
       "   'port': None,\n",
       "   'ttl': 1800,\n",
       "   'weight': None,\n",
       "   'flags': None,\n",
       "   'tag': None},\n",
       "  {'id': 132121861,\n",
       "   'type': 'MX',\n",
       "   'name': '@',\n",
       "   'data': 'mail.balderas.de',\n",
       "   'priority': 0,\n",
       "   'port': None,\n",
       "   'ttl': 1800,\n",
       "   'weight': None,\n",
       "   'flags': None,\n",
       "   'tag': None},\n",
       "  {'id': 132121980,\n",
       "   'type': 'TXT',\n",
       "   'name': '@',\n",
       "   'data': 'v=spf1 ip4:207.154.232.85 -all',\n",
       "   'priority': None,\n",
       "   'port': None,\n",
       "   'ttl': 3600,\n",
       "   'weight': None,\n",
       "   'flags': None,\n",
       "   'tag': None},\n",
       "  {'id': 132122049,\n",
       "   'type': 'TXT',\n",
       "   'name': '_dmarc',\n",
       "   'data': 'v=DMARC1;p=quarantine;',\n",
       "   'priority': None,\n",
       "   'port': None,\n",
       "   'ttl': 3600,\n",
       "   'weight': None,\n",
       "   'flags': None,\n",
       "   'tag': None},\n",
       "  {'id': 132124372,\n",
       "   'type': 'TXT',\n",
       "   'name': 'dkim._domainkey',\n",
       "   'data': 'v=DKIM1;k=rsa;t=s;s=email;p=MIIBIjANBgkqhkiG9w0BAQEFAAOCAQ8AMIIBCgKCAQEA1JUc1zgGtI1eaSyAPm5aXXBSheDKryGN/zAQ2EPBqTfRniSC5TQFpyetH8uRRSLY4l5z99wtsXxa5fbcavI2MczKKDE2/4dfTOQty9pvehyf1Xx2aucCvIrJJGA6VcdkZfhg6ThEtZAK5C27BDOYNuVtEoieeNJA83+xiy+QOFy1M6w2NUVHkKO6nXKK5n5PF63Td5zg9TZAsrCi4g7tcaTl/8M7ODPfnxnmeWh6z/CegUudKVb4Gr9Vy2y9iy1X6d4iUzGyIFXHh5Y9eMOP0F5WAndLH9PPGBWbPq3bGPcPHa7l2Ad+hpVC2wP8dwc1Dcj/ErLtUuguffTJiDE3LQIDAQAB',\n",
       "   'priority': None,\n",
       "   'port': None,\n",
       "   'ttl': 3600,\n",
       "   'weight': None,\n",
       "   'flags': None,\n",
       "   'tag': None},\n",
       "  {'id': 132204188,\n",
       "   'type': 'SRV',\n",
       "   'name': '_autodiscover._tcp',\n",
       "   'data': 'mail.balderas.de',\n",
       "   'priority': 0,\n",
       "   'port': 443,\n",
       "   'ttl': 43200,\n",
       "   'weight': 1,\n",
       "   'flags': None,\n",
       "   'tag': None},\n",
       "  {'id': 132204259,\n",
       "   'type': 'SRV',\n",
       "   'name': '_imaps._tcp',\n",
       "   'data': 'mail.balderas.de',\n",
       "   'priority': 0,\n",
       "   'port': 993,\n",
       "   'ttl': 43200,\n",
       "   'weight': 1,\n",
       "   'flags': None,\n",
       "   'tag': None},\n",
       "  {'id': 132204330,\n",
       "   'type': 'SRV',\n",
       "   'name': '_smtps._tcp',\n",
       "   'data': 'mail.balderas.de',\n",
       "   'priority': 0,\n",
       "   'port': 465,\n",
       "   'ttl': 43200,\n",
       "   'weight': 1,\n",
       "   'flags': None,\n",
       "   'tag': None},\n",
       "  {'id': 132204359,\n",
       "   'type': 'SRV',\n",
       "   'name': '_submission._tcp',\n",
       "   'data': 'mail.balderas.de',\n",
       "   'priority': 0,\n",
       "   'port': 587,\n",
       "   'ttl': 43200,\n",
       "   'weight': 1,\n",
       "   'flags': None,\n",
       "   'tag': None},\n",
       "  {'id': 132204508,\n",
       "   'type': 'SRV',\n",
       "   'name': '_imap._tcp',\n",
       "   'data': 'mail.balderas.de',\n",
       "   'priority': 0,\n",
       "   'port': 143,\n",
       "   'ttl': 43200,\n",
       "   'weight': 1,\n",
       "   'flags': None,\n",
       "   'tag': None},\n",
       "  {'id': 133219881,\n",
       "   'type': 'A',\n",
       "   'name': '@',\n",
       "   'data': '46.101.136.74',\n",
       "   'priority': None,\n",
       "   'port': None,\n",
       "   'ttl': 3600,\n",
       "   'weight': None,\n",
       "   'flags': None,\n",
       "   'tag': None},\n",
       "  {'id': 133221287,\n",
       "   'type': 'CNAME',\n",
       "   'name': 'autodiscover',\n",
       "   'data': 'mail.balderas.de',\n",
       "   'priority': None,\n",
       "   'port': None,\n",
       "   'ttl': 1800,\n",
       "   'weight': None,\n",
       "   'flags': None,\n",
       "   'tag': None},\n",
       "  {'id': 133221324,\n",
       "   'type': 'CNAME',\n",
       "   'name': 'autoconfig',\n",
       "   'data': 'mail.balderas.de',\n",
       "   'priority': None,\n",
       "   'port': None,\n",
       "   'ttl': 1800,\n",
       "   'weight': None,\n",
       "   'flags': None,\n",
       "   'tag': None}],\n",
       " 'links': {'pages': {'last': 'https://api.digitalocean.com/v2/domains/balderas.de/records?page=2&per_page=20',\n",
       "   'next': 'https://api.digitalocean.com/v2/domains/balderas.de/records?page=2&per_page=20'}},\n",
       " 'meta': {'total': 31}}"
      ]
     },
     "execution_count": 10,
     "metadata": {},
     "output_type": "execute_result"
    }
   ],
   "source": [
    "r.json()"
   ]
  },
  {
   "cell_type": "code",
   "execution_count": 27,
   "id": "maritime-yesterday",
   "metadata": {},
   "outputs": [],
   "source": [
    "data = {\n",
    "  \"type\": \"A\",\n",
    "  \"name\": \"test\",\n",
    "  \"data\": f\"{current_ip}\"\n",
    "}"
   ]
  },
  {
   "cell_type": "code",
   "execution_count": 31,
   "id": "religious-grass",
   "metadata": {},
   "outputs": [
    {
     "data": {
      "text/plain": [
       "{'type': 'A', 'name': 'test', 'data': '5.63.59.58'}"
      ]
     },
     "execution_count": 31,
     "metadata": {},
     "output_type": "execute_result"
    }
   ],
   "source": [
    "data"
   ]
  },
  {
   "cell_type": "code",
   "execution_count": 49,
   "id": "human-flashing",
   "metadata": {},
   "outputs": [],
   "source": [
    "r = requests.post(url, headers=headers, data=data)"
   ]
  },
  {
   "cell_type": "code",
   "execution_count": 50,
   "id": "conditional-passage",
   "metadata": {},
   "outputs": [
    {
     "data": {
      "text/plain": [
       "400"
      ]
     },
     "execution_count": 50,
     "metadata": {},
     "output_type": "execute_result"
    }
   ],
   "source": [
    "r.status_code"
   ]
  },
  {
   "cell_type": "code",
   "execution_count": 30,
   "id": "cooperative-vaccine",
   "metadata": {},
   "outputs": [
    {
     "data": {
      "text/plain": [
       "'{\"id\":\"bad_request\",\"message\":\"invalid character \\'y\\' in literal true (expecting \\'r\\')\",\"request_id\":\"947b5b6e-9e10-432d-ba3a-81848574e7fa\"}\\n'"
      ]
     },
     "execution_count": 30,
     "metadata": {},
     "output_type": "execute_result"
    }
   ],
   "source": [
    "r.text"
   ]
  },
  {
   "cell_type": "code",
   "execution_count": null,
   "id": "amber-egyptian",
   "metadata": {},
   "outputs": [],
   "source": []
  },
  {
   "cell_type": "code",
   "execution_count": null,
   "id": "sharing-processor",
   "metadata": {},
   "outputs": [],
   "source": []
  },
  {
   "cell_type": "code",
   "execution_count": null,
   "id": "dated-uniform",
   "metadata": {},
   "outputs": [],
   "source": []
  },
  {
   "cell_type": "code",
   "execution_count": 18,
   "id": "gothic-password",
   "metadata": {},
   "outputs": [
    {
     "data": {
      "text/plain": [
       "{'type': 'A',\n",
       " 'name': 'www',\n",
       " 'data': '5.63.59.58',\n",
       " 'priority': None,\n",
       " 'port': None,\n",
       " 'ttl': 1800,\n",
       " 'weight': None,\n",
       " 'flags': None,\n",
       " 'tag': None}"
      ]
     },
     "execution_count": 18,
     "metadata": {},
     "output_type": "execute_result"
    }
   ],
   "source": [
    "data"
   ]
  },
  {
   "cell_type": "code",
   "execution_count": 12,
   "id": "plastic-coverage",
   "metadata": {},
   "outputs": [],
   "source": [
    "r2 = requests.get(\"https://ifconfig.me\")"
   ]
  },
  {
   "cell_type": "code",
   "execution_count": 13,
   "id": "weird-price",
   "metadata": {},
   "outputs": [
    {
     "data": {
      "text/plain": [
       "'5.63.59.58'"
      ]
     },
     "execution_count": 13,
     "metadata": {},
     "output_type": "execute_result"
    }
   ],
   "source": [
    "r2.text"
   ]
  },
  {
   "cell_type": "code",
   "execution_count": null,
   "id": "pending-update",
   "metadata": {},
   "outputs": [],
   "source": []
  }
 ],
 "metadata": {
  "kernelspec": {
   "display_name": "Python 3",
   "language": "python",
   "name": "python3"
  },
  "language_info": {
   "codemirror_mode": {
    "name": "ipython",
    "version": 3
   },
   "file_extension": ".py",
   "mimetype": "text/x-python",
   "name": "python",
   "nbconvert_exporter": "python",
   "pygments_lexer": "ipython3",
   "version": "3.8.5"
  }
 },
 "nbformat": 4,
 "nbformat_minor": 5
}
