{
 "cells": [
  {
   "cell_type": "code",
   "execution_count": 1,
   "id": "interesting-nursery",
   "metadata": {},
   "outputs": [],
   "source": [
    "import requests\n",
    "import os\n",
    "import json\n",
    "\n",
    "from typing import List\n",
    "\n",
    "apikey = os.environ[\"apikey\"]"
   ]
  },
  {
   "cell_type": "code",
   "execution_count": 3,
   "id": "collect-timer",
   "metadata": {},
   "outputs": [],
   "source": [
    "current_ip = requests.get(\"http://ifconfig.me\").text\n",
    "update_record_info = {\n",
    "    \"data\":f\"{current_ip}\"\n",
    "}\n",
    "\n",
    "headers = {\n",
    "    \"Authorization\": f\"Bearer {apikey}\",\n",
    "    \"Content-Type\": \"application/json\"\n",
    "}\n",
    "    \n",
    "params = {\n",
    "    \"type\": \"A\",\n",
    "}"
   ]
  },
  {
   "cell_type": "code",
   "execution_count": 5,
   "id": "after-orlando",
   "metadata": {},
   "outputs": [],
   "source": [
    "domains = {\n",
    "    \"balderas.de\": [\n",
    "        \"*\",\n",
    "        \"manage\"\n",
    "    ],\n",
    "    \"balderas-home.com\": [\n",
    "        \"example\",\n",
    "        \"example2\"\n",
    "    ]\n",
    "}"
   ]
  },
  {
   "cell_type": "code",
   "execution_count": 19,
   "id": "speaking-smooth",
   "metadata": {},
   "outputs": [],
   "source": [
    "def get_record_ids(do_url:str, subdomains:List[str]) -> List[str]:\n",
    "    response = requests.get(do_url, headers=headers, params=params)\n",
    "    response = response.json()[\"domain_records\"]\n",
    "    return [record[\"id\"] for record in response if record[\"name\"] in subdomains]"
   ]
  },
  {
   "cell_type": "code",
   "execution_count": 21,
   "id": "labeled-chance",
   "metadata": {},
   "outputs": [],
   "source": [
    "def get_record_urls(domain:str, subdomains:List[str]) -> List[str]:\n",
    "    do_url = f\"https://api.digitalocean.com/v2/domains/{domain}/records\"   \n",
    "    record_ids = get_record_ids(do_url, subdomains)\n",
    "    return [do_url + f\"/{record_id}\" for record_id in record_ids]"
   ]
  },
  {
   "cell_type": "code",
   "execution_count": 31,
   "id": "theoretical-fabric",
   "metadata": {},
   "outputs": [],
   "source": [
    "def update_record_ids(record_urls:List[str], new_ip: str) -> None:\n",
    "    new_ip = {\"data\": f\"{new_ip}\", \"ttl\": 60}\n",
    "    for record_url in record_urls:\n",
    "        r = requests.put(record_url, headers=headers, data=json.dumps(new_ip))\n",
    "        if r.status_code == 200:\n",
    "            print(f\"Changed record for {record_url} to IP {new_ip['data']}\")"
   ]
  },
  {
   "cell_type": "code",
   "execution_count": 32,
   "id": "convenient-thought",
   "metadata": {},
   "outputs": [
    {
     "name": "stdout",
     "output_type": "stream",
     "text": [
      "Changing IPs\n",
      "Changed record for https://api.digitalocean.com/v2/domains/balderas.de/records/141520954 to IP 5.63.49.248\n",
      "Changed record for https://api.digitalocean.com/v2/domains/balderas.de/records/141674740 to IP 5.63.49.248\n",
      "Changed record for https://api.digitalocean.com/v2/domains/balderas-home.com/records/142224248 to IP 5.63.49.248\n",
      "Changed record for https://api.digitalocean.com/v2/domains/balderas-home.com/records/142224253 to IP 5.63.49.248\n"
     ]
    }
   ],
   "source": [
    "# 1 Get current IP and see if it has changed. If IP has changed then update IP\n",
    "last_ip = current_ip = \"0.0.0.0\"\n",
    "current_ip = requests.get(\"http://ifconfig.me\").text\n",
    "\n",
    "if current_ip != last_ip:\n",
    "    print(\"Changing IPs\")\n",
    "    # GET all record ids for domains\n",
    "    domain_urls = {}\n",
    "    for domain, subdomains in domains.items():\n",
    "        record_urls = get_record_urls(domain, subdomains)        \n",
    "        update_record_ids(record_urls, current_ip)\n",
    "        \n",
    "    last_ip = current_ip\n",
    "    \n",
    "\n",
    "# Update IP for given records"
   ]
  },
  {
   "cell_type": "code",
   "execution_count": null,
   "id": "downtown-mississippi",
   "metadata": {},
   "outputs": [],
   "source": []
  },
  {
   "cell_type": "code",
   "execution_count": null,
   "id": "suffering-pattern",
   "metadata": {},
   "outputs": [],
   "source": []
  },
  {
   "cell_type": "code",
   "execution_count": null,
   "id": "alternative-begin",
   "metadata": {},
   "outputs": [],
   "source": []
  },
  {
   "cell_type": "code",
   "execution_count": null,
   "id": "rapid-kingdom",
   "metadata": {},
   "outputs": [],
   "source": []
  },
  {
   "cell_type": "code",
   "execution_count": null,
   "id": "conscious-preparation",
   "metadata": {},
   "outputs": [],
   "source": []
  },
  {
   "cell_type": "code",
   "execution_count": null,
   "id": "opposed-clothing",
   "metadata": {},
   "outputs": [],
   "source": []
  },
  {
   "cell_type": "code",
   "execution_count": 14,
   "id": "answering-tracy",
   "metadata": {},
   "outputs": [],
   "source": [
    "domain = \"balderas.de\"\n",
    "subdomains = domains[domain]"
   ]
  },
  {
   "cell_type": "code",
   "execution_count": 43,
   "id": "optimum-explanation",
   "metadata": {},
   "outputs": [
    {
     "name": "stdout",
     "output_type": "stream",
     "text": [
      "[]\n"
     ]
    },
    {
     "data": {
      "text/plain": [
       "[]"
      ]
     },
     "execution_count": 43,
     "metadata": {},
     "output_type": "execute_result"
    }
   ],
   "source": [
    "get_record_urls(domain, subdomains)"
   ]
  },
  {
   "cell_type": "code",
   "execution_count": 6,
   "id": "directed-exercise",
   "metadata": {},
   "outputs": [
    {
     "data": {
      "text/plain": [
       "['*', 'manage']"
      ]
     },
     "execution_count": 6,
     "metadata": {},
     "output_type": "execute_result"
    }
   ],
   "source": [
    "domains[\"balderas.de\"]"
   ]
  },
  {
   "cell_type": "code",
   "execution_count": null,
   "id": "recorded-amino",
   "metadata": {},
   "outputs": [],
   "source": []
  },
  {
   "cell_type": "code",
   "execution_count": null,
   "id": "caroline-replica",
   "metadata": {},
   "outputs": [],
   "source": [
    "def get_do_records(record_id:str) -> str:\n",
    "    \n",
    "    "
   ]
  },
  {
   "cell_type": "code",
   "execution_count": 31,
   "id": "dated-looking",
   "metadata": {},
   "outputs": [
    {
     "ename": "SyntaxError",
     "evalue": "'return' outside function (<ipython-input-31-5b29eb83adb3>, line 4)",
     "output_type": "error",
     "traceback": [
      "\u001b[0;36m  File \u001b[0;32m\"<ipython-input-31-5b29eb83adb3>\"\u001b[0;36m, line \u001b[0;32m4\u001b[0m\n\u001b[0;31m    return r.status_code == 200\u001b[0m\n\u001b[0m    ^\u001b[0m\n\u001b[0;31mSyntaxError\u001b[0m\u001b[0;31m:\u001b[0m 'return' outside function\n"
     ]
    }
   ],
   "source": [
    "for domain, subdomains in domains.items():\n",
    "    do_url = f\"https://api.digitalocean.com/v2/domains/{domain}/records\"    \n",
    "    r = requests.get(do_url, headers=headers, params=params)\n"
   ]
  },
  {
   "cell_type": "code",
   "execution_count": 21,
   "id": "geological-union",
   "metadata": {},
   "outputs": [
    {
     "name": "stdout",
     "output_type": "stream",
     "text": [
      "142224248\n",
      "142224253\n"
     ]
    }
   ],
   "source": [
    "for record in r.json()[\"domain_records\"]:\n",
    "    {\"id\": }\n",
    "    print(record[\"id\"])"
   ]
  },
  {
   "cell_type": "code",
   "execution_count": 25,
   "id": "handmade-complaint",
   "metadata": {},
   "outputs": [
    {
     "data": {
      "text/plain": [
       "{'id': 142224253,\n",
       " 'type': 'A',\n",
       " 'name': 'example2',\n",
       " 'data': '5.63.36.182',\n",
       " 'priority': None,\n",
       " 'port': None,\n",
       " 'ttl': 3600,\n",
       " 'weight': None,\n",
       " 'flags': None,\n",
       " 'tag': None}"
      ]
     },
     "execution_count": 25,
     "metadata": {},
     "output_type": "execute_result"
    }
   ],
   "source": [
    "record"
   ]
  },
  {
   "cell_type": "code",
   "execution_count": 35,
   "id": "continuous-carrier",
   "metadata": {},
   "outputs": [
    {
     "data": {
      "text/plain": [
       "[142224248, 142224253]"
      ]
     },
     "execution_count": 35,
     "metadata": {},
     "output_type": "execute_result"
    }
   ],
   "source": [
    "[record[\"id\"] for record in r.json()[\"domain_records\"] if record[\"name\"] in subdomains]"
   ]
  },
  {
   "cell_type": "code",
   "execution_count": 32,
   "id": "visible-bridal",
   "metadata": {},
   "outputs": [
    {
     "data": {
      "text/plain": [
       "{'example': 142224248, 'example2': 142224253}"
      ]
     },
     "execution_count": 32,
     "metadata": {},
     "output_type": "execute_result"
    }
   ],
   "source": [
    "{x[\"name\"]:x[\"id\"] for x in r.json()[\"domain_records\"] if x[\"name\"] in subdomains}"
   ]
  },
  {
   "cell_type": "code",
   "execution_count": 30,
   "id": "fifth-austria",
   "metadata": {},
   "outputs": [
    {
     "data": {
      "text/plain": [
       "{'id': 142224253,\n",
       " 'type': 'A',\n",
       " 'name': 'example2',\n",
       " 'data': '5.63.36.182',\n",
       " 'priority': None,\n",
       " 'port': None,\n",
       " 'ttl': 3600,\n",
       " 'weight': None,\n",
       " 'flags': None,\n",
       " 'tag': None}"
      ]
     },
     "execution_count": 30,
     "metadata": {},
     "output_type": "execute_result"
    }
   ],
   "source": [
    "record"
   ]
  },
  {
   "cell_type": "code",
   "execution_count": null,
   "id": "entertaining-ensemble",
   "metadata": {},
   "outputs": [],
   "source": []
  },
  {
   "cell_type": "code",
   "execution_count": 14,
   "id": "committed-pendant",
   "metadata": {},
   "outputs": [
    {
     "data": {
      "text/plain": [
       "['example', 'example2']"
      ]
     },
     "execution_count": 14,
     "metadata": {},
     "output_type": "execute_result"
    }
   ],
   "source": [
    "for subdomain in subdomains:\n",
    "    "
   ]
  },
  {
   "cell_type": "code",
   "execution_count": 26,
   "id": "separated-alpha",
   "metadata": {},
   "outputs": [],
   "source": [
    "domain = \"balderas.de\"\n",
    "subdomain = \"test\"\n",
    "apikey = os.environ[\"apikey\"]"
   ]
  },
  {
   "cell_type": "code",
   "execution_count": 27,
   "id": "thorough-plymouth",
   "metadata": {},
   "outputs": [],
   "source": [
    "url = f\"https://api.digitalocean.com/v2/domains/{domain}/records\"\n",
    "headers = {\n",
    "    \"Authorization\": f\"Bearer {apikey}\",\n",
    "    \"Content-Type\": \"application/json\"\n",
    "}\n",
    "params = {\n",
    "    \"type\": \"A\",\n",
    "    \"name\": f\"{subdomain}.{domain}\"\n",
    "}"
   ]
  },
  {
   "cell_type": "code",
   "execution_count": 28,
   "id": "dominican-zimbabwe",
   "metadata": {},
   "outputs": [
    {
     "ename": "IndexError",
     "evalue": "list index out of range",
     "output_type": "error",
     "traceback": [
      "\u001b[0;31m---------------------------------------------------------------------------\u001b[0m",
      "\u001b[0;31mIndexError\u001b[0m                                Traceback (most recent call last)",
      "\u001b[0;32m<ipython-input-28-0a8c5dfbd6d5>\u001b[0m in \u001b[0;36m<module>\u001b[0;34m\u001b[0m\n\u001b[1;32m      1\u001b[0m \u001b[0mr\u001b[0m \u001b[0;34m=\u001b[0m \u001b[0mrequests\u001b[0m\u001b[0;34m.\u001b[0m\u001b[0mget\u001b[0m\u001b[0;34m(\u001b[0m\u001b[0murl\u001b[0m\u001b[0;34m,\u001b[0m \u001b[0mheaders\u001b[0m\u001b[0;34m=\u001b[0m\u001b[0mheaders\u001b[0m\u001b[0;34m,\u001b[0m \u001b[0mparams\u001b[0m\u001b[0;34m=\u001b[0m\u001b[0mparams\u001b[0m\u001b[0;34m)\u001b[0m\u001b[0;34m\u001b[0m\u001b[0;34m\u001b[0m\u001b[0m\n\u001b[0;32m----> 2\u001b[0;31m \u001b[0mrecord_id\u001b[0m \u001b[0;34m=\u001b[0m \u001b[0mr\u001b[0m\u001b[0;34m.\u001b[0m\u001b[0mjson\u001b[0m\u001b[0;34m(\u001b[0m\u001b[0;34m)\u001b[0m\u001b[0;34m[\u001b[0m\u001b[0;34m\"domain_records\"\u001b[0m\u001b[0;34m]\u001b[0m\u001b[0;34m[\u001b[0m\u001b[0;36m0\u001b[0m\u001b[0;34m]\u001b[0m\u001b[0;34m[\u001b[0m\u001b[0;34m\"id\"\u001b[0m\u001b[0;34m]\u001b[0m\u001b[0;34m\u001b[0m\u001b[0;34m\u001b[0m\u001b[0m\n\u001b[0m\u001b[1;32m      3\u001b[0m \u001b[0mrecord_url\u001b[0m \u001b[0;34m=\u001b[0m \u001b[0murl\u001b[0m \u001b[0;34m+\u001b[0m \u001b[0;34mf\"/{record_id}\"\u001b[0m\u001b[0;34m\u001b[0m\u001b[0;34m\u001b[0m\u001b[0m\n\u001b[1;32m      4\u001b[0m \u001b[0;34m\u001b[0m\u001b[0m\n\u001b[1;32m      5\u001b[0m \u001b[0mcurrent_ip\u001b[0m \u001b[0;34m=\u001b[0m \u001b[0mrequests\u001b[0m\u001b[0;34m.\u001b[0m\u001b[0mget\u001b[0m\u001b[0;34m(\u001b[0m\u001b[0;34m\"https://ifconfig.me\"\u001b[0m\u001b[0;34m)\u001b[0m\u001b[0;34m.\u001b[0m\u001b[0mtext\u001b[0m\u001b[0;34m\u001b[0m\u001b[0;34m\u001b[0m\u001b[0m\n",
      "\u001b[0;31mIndexError\u001b[0m: list index out of range"
     ]
    }
   ],
   "source": [
    "r = requests.get(url, headers=headers, params=params)\n",
    "record_id = r.json()[\"domain_records\"][0][\"id\"]\n",
    "record_url = url + f\"/{record_id}\"\n",
    "\n",
    "current_ip = requests.get(\"https://ifconfig.me\").text\n",
    "\n",
    "update_ip = {\n",
    "    \"data\": \"0.0.0.90\"\n",
    "    #\"data\": f\"{current_ip}\"\n",
    "}"
   ]
  },
  {
   "cell_type": "code",
   "execution_count": 30,
   "id": "theoretical-nylon",
   "metadata": {},
   "outputs": [
    {
     "data": {
      "text/plain": [
       "int"
      ]
     },
     "execution_count": 30,
     "metadata": {},
     "output_type": "execute_result"
    }
   ],
   "source": [
    "type(r.status_code)"
   ]
  },
  {
   "cell_type": "code",
   "execution_count": null,
   "id": "corresponding-liechtenstein",
   "metadata": {},
   "outputs": [],
   "source": [
    "r = requests.get(record_url, headers=headers)"
   ]
  },
  {
   "cell_type": "code",
   "execution_count": 209,
   "id": "acute-number",
   "metadata": {},
   "outputs": [
    {
     "data": {
      "text/plain": [
       "{'domain_record': {'id': 141512538,\n",
       "  'type': 'A',\n",
       "  'name': 'test',\n",
       "  'data': '77.37.99.114',\n",
       "  'priority': None,\n",
       "  'port': None,\n",
       "  'ttl': 3600,\n",
       "  'weight': None,\n",
       "  'flags': None,\n",
       "  'tag': None}}"
      ]
     },
     "execution_count": 209,
     "metadata": {},
     "output_type": "execute_result"
    }
   ],
   "source": [
    "r.json()"
   ]
  },
  {
   "cell_type": "code",
   "execution_count": 210,
   "id": "union-handle",
   "metadata": {},
   "outputs": [],
   "source": [
    "r = requests.put(record_url, headers=headers, data=json.dumps(update_ip))"
   ]
  },
  {
   "cell_type": "code",
   "execution_count": 211,
   "id": "experienced-integrity",
   "metadata": {},
   "outputs": [
    {
     "data": {
      "text/plain": [
       "{'domain_record': {'id': 141512538,\n",
       "  'type': 'A',\n",
       "  'name': 'test',\n",
       "  'data': '0.0.0.0',\n",
       "  'priority': None,\n",
       "  'port': None,\n",
       "  'ttl': 3600,\n",
       "  'weight': None,\n",
       "  'flags': None,\n",
       "  'tag': None}}"
      ]
     },
     "execution_count": 211,
     "metadata": {},
     "output_type": "execute_result"
    }
   ],
   "source": [
    "r.json()"
   ]
  },
  {
   "cell_type": "code",
   "execution_count": null,
   "id": "demanding-floating",
   "metadata": {},
   "outputs": [],
   "source": []
  },
  {
   "cell_type": "code",
   "execution_count": null,
   "id": "committed-thing",
   "metadata": {},
   "outputs": [],
   "source": []
  },
  {
   "cell_type": "code",
   "execution_count": 194,
   "id": "turned-occasions",
   "metadata": {},
   "outputs": [
    {
     "data": {
      "text/plain": [
       "141512538"
      ]
     },
     "execution_count": 194,
     "metadata": {},
     "output_type": "execute_result"
    }
   ],
   "source": [
    "record_id"
   ]
  },
  {
   "cell_type": "code",
   "execution_count": 195,
   "id": "fifty-retail",
   "metadata": {},
   "outputs": [
    {
     "data": {
      "text/plain": [
       "'77.37.99.114'"
      ]
     },
     "execution_count": 195,
     "metadata": {},
     "output_type": "execute_result"
    }
   ],
   "source": [
    "current_ip"
   ]
  },
  {
   "cell_type": "code",
   "execution_count": null,
   "id": "functional-champion",
   "metadata": {},
   "outputs": [],
   "source": []
  },
  {
   "cell_type": "code",
   "execution_count": 177,
   "id": "central-success",
   "metadata": {},
   "outputs": [],
   "source": [
    "current_ip = requests.get(\"https://ifconfig.me\").text"
   ]
  },
  {
   "cell_type": "code",
   "execution_count": 178,
   "id": "infectious-thomson",
   "metadata": {},
   "outputs": [],
   "source": [
    "r = requests.get(url, headers=headers, params=params)"
   ]
  },
  {
   "cell_type": "code",
   "execution_count": 179,
   "id": "attended-survey",
   "metadata": {},
   "outputs": [
    {
     "data": {
      "text/plain": [
       "200"
      ]
     },
     "execution_count": 179,
     "metadata": {},
     "output_type": "execute_result"
    }
   ],
   "source": [
    "r.status_code"
   ]
  },
  {
   "cell_type": "code",
   "execution_count": 183,
   "id": "crude-design",
   "metadata": {},
   "outputs": [
    {
     "data": {
      "text/plain": [
       "141512538"
      ]
     },
     "execution_count": 183,
     "metadata": {},
     "output_type": "execute_result"
    }
   ],
   "source": [
    "r.json()[\"domain_records\"][0][\"id\"]"
   ]
  },
  {
   "cell_type": "code",
   "execution_count": 150,
   "id": "amino-population",
   "metadata": {},
   "outputs": [],
   "source": [
    "create_body = {\n",
    "    \"type\": \"A\",\n",
    "    \"name\": \"test2\",\n",
    "    \"data\" : \"0.0.0.1\"\n",
    "}"
   ]
  },
  {
   "cell_type": "code",
   "execution_count": 151,
   "id": "automotive-pastor",
   "metadata": {},
   "outputs": [],
   "source": [
    "r = requests.post(url, headers=headers, data=json.dumps(create_body))"
   ]
  },
  {
   "cell_type": "code",
   "execution_count": 152,
   "id": "organizational-bermuda",
   "metadata": {},
   "outputs": [
    {
     "data": {
      "text/plain": [
       "201"
      ]
     },
     "execution_count": 152,
     "metadata": {},
     "output_type": "execute_result"
    }
   ],
   "source": [
    "r.status_code"
   ]
  },
  {
   "cell_type": "code",
   "execution_count": 153,
   "id": "virgin-staff",
   "metadata": {},
   "outputs": [],
   "source": [
    "update_body = {\n",
    "    \"name\": \"newtest\"\n",
    "}"
   ]
  },
  {
   "cell_type": "code",
   "execution_count": 159,
   "id": "martial-paraguay",
   "metadata": {},
   "outputs": [],
   "source": [
    "update_url = \"https://api.digitalocean.com/v2/domains/balderas.de/records/141515305\""
   ]
  },
  {
   "cell_type": "code",
   "execution_count": 165,
   "id": "athletic-vietnam",
   "metadata": {},
   "outputs": [],
   "source": [
    "r = requests.put(update_url, headers=headers, data=json.dumps(update_body))"
   ]
  },
  {
   "cell_type": "code",
   "execution_count": 166,
   "id": "material-stress",
   "metadata": {},
   "outputs": [
    {
     "data": {
      "text/plain": [
       "200"
      ]
     },
     "execution_count": 166,
     "metadata": {},
     "output_type": "execute_result"
    }
   ],
   "source": [
    "r.status_code"
   ]
  },
  {
   "cell_type": "code",
   "execution_count": 167,
   "id": "neutral-verification",
   "metadata": {},
   "outputs": [
    {
     "data": {
      "text/plain": [
       "{'domain_record': {'id': 141515305,\n",
       "  'type': 'A',\n",
       "  'name': 'newtest',\n",
       "  'data': '0.0.0.1',\n",
       "  'priority': None,\n",
       "  'port': None,\n",
       "  'ttl': 1800,\n",
       "  'weight': None,\n",
       "  'flags': None,\n",
       "  'tag': None}}"
      ]
     },
     "execution_count": 167,
     "metadata": {},
     "output_type": "execute_result"
    }
   ],
   "source": [
    "r.json()"
   ]
  },
  {
   "cell_type": "code",
   "execution_count": 157,
   "id": "blind-saskatchewan",
   "metadata": {},
   "outputs": [],
   "source": [
    "x = r.json()[\"domain_records\"][0]"
   ]
  },
  {
   "cell_type": "code",
   "execution_count": 158,
   "id": "sacred-isaac",
   "metadata": {},
   "outputs": [
    {
     "data": {
      "text/plain": [
       "{'id': 141515305,\n",
       " 'type': 'A',\n",
       " 'name': 'test2',\n",
       " 'data': '0.0.0.1',\n",
       " 'priority': None,\n",
       " 'port': None,\n",
       " 'ttl': 1800,\n",
       " 'weight': None,\n",
       " 'flags': None,\n",
       " 'tag': None}"
      ]
     },
     "execution_count": 158,
     "metadata": {},
     "output_type": "execute_result"
    }
   ],
   "source": [
    "x"
   ]
  },
  {
   "cell_type": "code",
   "execution_count": 136,
   "id": "adopted-catch",
   "metadata": {},
   "outputs": [],
   "source": [
    "record_id = x[\"id\"]"
   ]
  },
  {
   "cell_type": "code",
   "execution_count": 137,
   "id": "premium-blink",
   "metadata": {},
   "outputs": [
    {
     "data": {
      "text/plain": [
       "141514927"
      ]
     },
     "execution_count": 137,
     "metadata": {},
     "output_type": "execute_result"
    }
   ],
   "source": [
    "record_id"
   ]
  },
  {
   "cell_type": "code",
   "execution_count": 113,
   "id": "dated-position",
   "metadata": {},
   "outputs": [],
   "source": [
    "update_body = {\n",
    "    \"data\" : f\"{current_ip}\"\n",
    "}"
   ]
  },
  {
   "cell_type": "code",
   "execution_count": 138,
   "id": "confident-cornell",
   "metadata": {},
   "outputs": [],
   "source": [
    "record_url = url + f\"/{record_id}\""
   ]
  },
  {
   "cell_type": "code",
   "execution_count": 139,
   "id": "greenhouse-denial",
   "metadata": {},
   "outputs": [
    {
     "data": {
      "text/plain": [
       "'https://api.digitalocean.com/v2/domains/balderas.de/records/141514927'"
      ]
     },
     "execution_count": 139,
     "metadata": {},
     "output_type": "execute_result"
    }
   ],
   "source": [
    "record_url"
   ]
  },
  {
   "cell_type": "code",
   "execution_count": 140,
   "id": "metropolitan-studio",
   "metadata": {},
   "outputs": [],
   "source": [
    "r = requests.get(record_url, headers=headers)"
   ]
  },
  {
   "cell_type": "code",
   "execution_count": 141,
   "id": "italian-sixth",
   "metadata": {},
   "outputs": [
    {
     "data": {
      "text/plain": [
       "200"
      ]
     },
     "execution_count": 141,
     "metadata": {},
     "output_type": "execute_result"
    }
   ],
   "source": [
    "r.status_code"
   ]
  },
  {
   "cell_type": "code",
   "execution_count": 142,
   "id": "informative-works",
   "metadata": {},
   "outputs": [
    {
     "data": {
      "text/plain": [
       "{'id': 141514927,\n",
       " 'type': 'A',\n",
       " 'name': 'test2',\n",
       " 'data': '0.0.0.0',\n",
       " 'priority': None,\n",
       " 'port': None,\n",
       " 'ttl': 3600,\n",
       " 'weight': None,\n",
       " 'flags': None,\n",
       " 'tag': None}"
      ]
     },
     "execution_count": 142,
     "metadata": {},
     "output_type": "execute_result"
    }
   ],
   "source": [
    "r.json()[\"domain_record\"]"
   ]
  },
  {
   "cell_type": "code",
   "execution_count": 126,
   "id": "collect-joseph",
   "metadata": {},
   "outputs": [],
   "source": [
    "r = requests.post(record_url, headers=headers, data = '{\"name\":\"blog\"}')"
   ]
  },
  {
   "cell_type": "code",
   "execution_count": 127,
   "id": "solved-mechanics",
   "metadata": {},
   "outputs": [
    {
     "data": {
      "text/plain": [
       "404"
      ]
     },
     "execution_count": 127,
     "metadata": {},
     "output_type": "execute_result"
    }
   ],
   "source": [
    "r.status_code"
   ]
  },
  {
   "cell_type": "code",
   "execution_count": 128,
   "id": "limited-restoration",
   "metadata": {},
   "outputs": [
    {
     "data": {
      "text/plain": [
       "'{\"id\":\"not_found\",\"message\":\"The resource you were accessing could not be found.\"}'"
      ]
     },
     "execution_count": 128,
     "metadata": {},
     "output_type": "execute_result"
    }
   ],
   "source": [
    "r.text"
   ]
  },
  {
   "cell_type": "code",
   "execution_count": null,
   "id": "conditional-tamil",
   "metadata": {},
   "outputs": [],
   "source": []
  },
  {
   "cell_type": "code",
   "execution_count": 92,
   "id": "extra-fitting",
   "metadata": {},
   "outputs": [],
   "source": [
    "r = requests.post(url, headers=headers, data=json.dumps(update_body))"
   ]
  },
  {
   "cell_type": "code",
   "execution_count": 93,
   "id": "concerned-hundred",
   "metadata": {},
   "outputs": [
    {
     "data": {
      "text/plain": [
       "404"
      ]
     },
     "execution_count": 93,
     "metadata": {},
     "output_type": "execute_result"
    }
   ],
   "source": [
    "r.status_code"
   ]
  },
  {
   "cell_type": "code",
   "execution_count": 94,
   "id": "smart-label",
   "metadata": {},
   "outputs": [
    {
     "data": {
      "text/plain": [
       "'{\"id\":\"not_found\",\"message\":\"The resource you were accessing could not be found.\"}'"
      ]
     },
     "execution_count": 94,
     "metadata": {},
     "output_type": "execute_result"
    }
   ],
   "source": [
    "r.text"
   ]
  },
  {
   "cell_type": "code",
   "execution_count": 62,
   "id": "missing-liquid",
   "metadata": {},
   "outputs": [
    {
     "data": {
      "text/plain": [
       "['mail', '@']"
      ]
     },
     "execution_count": 62,
     "metadata": {},
     "output_type": "execute_result"
    }
   ],
   "source": [
    "[rec[\"name\"] for rec in x if rec[\"type\"]==\"A\"]"
   ]
  },
  {
   "cell_type": "code",
   "execution_count": 63,
   "id": "blind-stage",
   "metadata": {},
   "outputs": [
    {
     "data": {
      "text/plain": [
       "'balderas.de'"
      ]
     },
     "execution_count": 63,
     "metadata": {},
     "output_type": "execute_result"
    }
   ],
   "source": [
    "domain"
   ]
  },
  {
   "cell_type": "code",
   "execution_count": 64,
   "id": "cutting-knife",
   "metadata": {},
   "outputs": [
    {
     "data": {
      "text/plain": [
       "[{'id': 129252812,\n",
       "  'type': 'SOA',\n",
       "  'name': '@',\n",
       "  'data': '1800',\n",
       "  'priority': None,\n",
       "  'port': None,\n",
       "  'ttl': 1800,\n",
       "  'weight': None,\n",
       "  'flags': None,\n",
       "  'tag': None},\n",
       " {'id': 129252813,\n",
       "  'type': 'NS',\n",
       "  'name': '@',\n",
       "  'data': 'ns1.digitalocean.com',\n",
       "  'priority': None,\n",
       "  'port': None,\n",
       "  'ttl': 1800,\n",
       "  'weight': None,\n",
       "  'flags': None,\n",
       "  'tag': None},\n",
       " {'id': 129252814,\n",
       "  'type': 'NS',\n",
       "  'name': '@',\n",
       "  'data': 'ns2.digitalocean.com',\n",
       "  'priority': None,\n",
       "  'port': None,\n",
       "  'ttl': 1800,\n",
       "  'weight': None,\n",
       "  'flags': None,\n",
       "  'tag': None},\n",
       " {'id': 129252815,\n",
       "  'type': 'NS',\n",
       "  'name': '@',\n",
       "  'data': 'ns3.digitalocean.com',\n",
       "  'priority': None,\n",
       "  'port': None,\n",
       "  'ttl': 1800,\n",
       "  'weight': None,\n",
       "  'flags': None,\n",
       "  'tag': None},\n",
       " {'id': 131389179,\n",
       "  'type': 'CNAME',\n",
       "  'name': 'cloud',\n",
       "  'data': 'balderas.cloudns.cl',\n",
       "  'priority': None,\n",
       "  'port': None,\n",
       "  'ttl': 1800,\n",
       "  'weight': None,\n",
       "  'flags': None,\n",
       "  'tag': None},\n",
       " {'id': 131749821,\n",
       "  'type': 'CNAME',\n",
       "  'name': 'server',\n",
       "  'data': 'balderas.cloudns.cl',\n",
       "  'priority': None,\n",
       "  'port': None,\n",
       "  'ttl': 1800,\n",
       "  'weight': None,\n",
       "  'flags': None,\n",
       "  'tag': None},\n",
       " {'id': 132100334,\n",
       "  'type': 'A',\n",
       "  'name': 'mail',\n",
       "  'data': '207.154.232.85',\n",
       "  'priority': None,\n",
       "  'port': None,\n",
       "  'ttl': 1800,\n",
       "  'weight': None,\n",
       "  'flags': None,\n",
       "  'tag': None},\n",
       " {'id': 132121861,\n",
       "  'type': 'MX',\n",
       "  'name': '@',\n",
       "  'data': 'mail.balderas.de',\n",
       "  'priority': 0,\n",
       "  'port': None,\n",
       "  'ttl': 1800,\n",
       "  'weight': None,\n",
       "  'flags': None,\n",
       "  'tag': None},\n",
       " {'id': 132121980,\n",
       "  'type': 'TXT',\n",
       "  'name': '@',\n",
       "  'data': 'v=spf1 ip4:207.154.232.85 -all',\n",
       "  'priority': None,\n",
       "  'port': None,\n",
       "  'ttl': 3600,\n",
       "  'weight': None,\n",
       "  'flags': None,\n",
       "  'tag': None},\n",
       " {'id': 132122049,\n",
       "  'type': 'TXT',\n",
       "  'name': '_dmarc',\n",
       "  'data': 'v=DMARC1;p=quarantine;',\n",
       "  'priority': None,\n",
       "  'port': None,\n",
       "  'ttl': 3600,\n",
       "  'weight': None,\n",
       "  'flags': None,\n",
       "  'tag': None},\n",
       " {'id': 132124372,\n",
       "  'type': 'TXT',\n",
       "  'name': 'dkim._domainkey',\n",
       "  'data': 'v=DKIM1;k=rsa;t=s;s=email;p=MIIBIjANBgkqhkiG9w0BAQEFAAOCAQ8AMIIBCgKCAQEA1JUc1zgGtI1eaSyAPm5aXXBSheDKryGN/zAQ2EPBqTfRniSC5TQFpyetH8uRRSLY4l5z99wtsXxa5fbcavI2MczKKDE2/4dfTOQty9pvehyf1Xx2aucCvIrJJGA6VcdkZfhg6ThEtZAK5C27BDOYNuVtEoieeNJA83+xiy+QOFy1M6w2NUVHkKO6nXKK5n5PF63Td5zg9TZAsrCi4g7tcaTl/8M7ODPfnxnmeWh6z/CegUudKVb4Gr9Vy2y9iy1X6d4iUzGyIFXHh5Y9eMOP0F5WAndLH9PPGBWbPq3bGPcPHa7l2Ad+hpVC2wP8dwc1Dcj/ErLtUuguffTJiDE3LQIDAQAB',\n",
       "  'priority': None,\n",
       "  'port': None,\n",
       "  'ttl': 3600,\n",
       "  'weight': None,\n",
       "  'flags': None,\n",
       "  'tag': None},\n",
       " {'id': 132204188,\n",
       "  'type': 'SRV',\n",
       "  'name': '_autodiscover._tcp',\n",
       "  'data': 'mail.balderas.de',\n",
       "  'priority': 0,\n",
       "  'port': 443,\n",
       "  'ttl': 43200,\n",
       "  'weight': 1,\n",
       "  'flags': None,\n",
       "  'tag': None},\n",
       " {'id': 132204259,\n",
       "  'type': 'SRV',\n",
       "  'name': '_imaps._tcp',\n",
       "  'data': 'mail.balderas.de',\n",
       "  'priority': 0,\n",
       "  'port': 993,\n",
       "  'ttl': 43200,\n",
       "  'weight': 1,\n",
       "  'flags': None,\n",
       "  'tag': None},\n",
       " {'id': 132204330,\n",
       "  'type': 'SRV',\n",
       "  'name': '_smtps._tcp',\n",
       "  'data': 'mail.balderas.de',\n",
       "  'priority': 0,\n",
       "  'port': 465,\n",
       "  'ttl': 43200,\n",
       "  'weight': 1,\n",
       "  'flags': None,\n",
       "  'tag': None},\n",
       " {'id': 132204359,\n",
       "  'type': 'SRV',\n",
       "  'name': '_submission._tcp',\n",
       "  'data': 'mail.balderas.de',\n",
       "  'priority': 0,\n",
       "  'port': 587,\n",
       "  'ttl': 43200,\n",
       "  'weight': 1,\n",
       "  'flags': None,\n",
       "  'tag': None},\n",
       " {'id': 132204508,\n",
       "  'type': 'SRV',\n",
       "  'name': '_imap._tcp',\n",
       "  'data': 'mail.balderas.de',\n",
       "  'priority': 0,\n",
       "  'port': 143,\n",
       "  'ttl': 43200,\n",
       "  'weight': 1,\n",
       "  'flags': None,\n",
       "  'tag': None},\n",
       " {'id': 133219881,\n",
       "  'type': 'A',\n",
       "  'name': '@',\n",
       "  'data': '46.101.136.74',\n",
       "  'priority': None,\n",
       "  'port': None,\n",
       "  'ttl': 3600,\n",
       "  'weight': None,\n",
       "  'flags': None,\n",
       "  'tag': None},\n",
       " {'id': 133221287,\n",
       "  'type': 'CNAME',\n",
       "  'name': 'autodiscover',\n",
       "  'data': 'mail.balderas.de',\n",
       "  'priority': None,\n",
       "  'port': None,\n",
       "  'ttl': 1800,\n",
       "  'weight': None,\n",
       "  'flags': None,\n",
       "  'tag': None},\n",
       " {'id': 133221324,\n",
       "  'type': 'CNAME',\n",
       "  'name': 'autoconfig',\n",
       "  'data': 'mail.balderas.de',\n",
       "  'priority': None,\n",
       "  'port': None,\n",
       "  'ttl': 1800,\n",
       "  'weight': None,\n",
       "  'flags': None,\n",
       "  'tag': None},\n",
       " {'id': 133223153,\n",
       "  'type': 'SRV',\n",
       "  'name': '_autodiscover._tcp.mail',\n",
       "  'data': 'mail.balderas.de',\n",
       "  'priority': 0,\n",
       "  'port': 443,\n",
       "  'ttl': 43200,\n",
       "  'weight': 1,\n",
       "  'flags': None,\n",
       "  'tag': None}]"
      ]
     },
     "execution_count": 64,
     "metadata": {},
     "output_type": "execute_result"
    }
   ],
   "source": [
    "x"
   ]
  },
  {
   "cell_type": "code",
   "execution_count": null,
   "id": "indoor-quality",
   "metadata": {},
   "outputs": [],
   "source": []
  },
  {
   "cell_type": "code",
   "execution_count": 26,
   "id": "under-porcelain",
   "metadata": {},
   "outputs": [
    {
     "data": {
      "text/plain": [
       "{'Date': 'Sat, 20 Mar 2021 11:30:16 GMT', 'Content-Type': 'application/json; charset=utf-8', 'Transfer-Encoding': 'chunked', 'Connection': 'keep-alive', 'Set-Cookie': '__cfduid=d90ae83abc16d48dcd8a6f558446016701616239815; expires=Mon, 19-Apr-21 11:30:15 GMT; path=/; domain=.digitalocean.com; HttpOnly; SameSite=Lax', 'Cache-Control': 'max-age=0, private, must-revalidate', 'Ratelimit-Limit': '5000', 'Ratelimit-Remaining': '4998', 'Ratelimit-Reset': '1616239672', 'X-Gateway': 'Edge-Gateway', 'X-Request-Id': '8524f5c9-03f1-47a6-80ff-7ba2b4ce16fd', 'X-Response-From': 'service', 'CF-Cache-Status': 'DYNAMIC', 'cf-request-id': '08f0ff852000002b29ffb49000000001', 'Expect-CT': 'max-age=604800, report-uri=\"https://report-uri.cloudflare.com/cdn-cgi/beacon/expect-ct\"', 'Server': 'cloudflare', 'CF-RAY': '632e9b81caf72b29-FRA', 'Content-Encoding': 'gzip'}"
      ]
     },
     "execution_count": 26,
     "metadata": {},
     "output_type": "execute_result"
    }
   ],
   "source": [
    "r.headers"
   ]
  },
  {
   "cell_type": "code",
   "execution_count": 9,
   "id": "hollow-routine",
   "metadata": {
    "collapsed": true,
    "jupyter": {
     "outputs_hidden": true
    },
    "tags": []
   },
   "outputs": [
    {
     "data": {
      "text/plain": [
       "'{\"domain_records\":[{\"id\":129252812,\"type\":\"SOA\",\"name\":\"@\",\"data\":\"1800\",\"priority\":null,\"port\":null,\"ttl\":1800,\"weight\":null,\"flags\":null,\"tag\":null},{\"id\":129252813,\"type\":\"NS\",\"name\":\"@\",\"data\":\"ns1.digitalocean.com\",\"priority\":null,\"port\":null,\"ttl\":1800,\"weight\":null,\"flags\":null,\"tag\":null},{\"id\":129252814,\"type\":\"NS\",\"name\":\"@\",\"data\":\"ns2.digitalocean.com\",\"priority\":null,\"port\":null,\"ttl\":1800,\"weight\":null,\"flags\":null,\"tag\":null},{\"id\":129252815,\"type\":\"NS\",\"name\":\"@\",\"data\":\"ns3.digitalocean.com\",\"priority\":null,\"port\":null,\"ttl\":1800,\"weight\":null,\"flags\":null,\"tag\":null},{\"id\":131389179,\"type\":\"CNAME\",\"name\":\"cloud\",\"data\":\"balderas.cloudns.cl\",\"priority\":null,\"port\":null,\"ttl\":1800,\"weight\":null,\"flags\":null,\"tag\":null},{\"id\":131749821,\"type\":\"CNAME\",\"name\":\"server\",\"data\":\"balderas.cloudns.cl\",\"priority\":null,\"port\":null,\"ttl\":1800,\"weight\":null,\"flags\":null,\"tag\":null},{\"id\":132096582,\"type\":\"CNAME\",\"name\":\"*\",\"data\":\"balderas.cloudns.cl\",\"priority\":null,\"port\":null,\"ttl\":43200,\"weight\":null,\"flags\":null,\"tag\":null},{\"id\":132100334,\"type\":\"A\",\"name\":\"mail\",\"data\":\"207.154.232.85\",\"priority\":null,\"port\":null,\"ttl\":1800,\"weight\":null,\"flags\":null,\"tag\":null},{\"id\":132121861,\"type\":\"MX\",\"name\":\"@\",\"data\":\"mail.balderas.de\",\"priority\":0,\"port\":null,\"ttl\":1800,\"weight\":null,\"flags\":null,\"tag\":null},{\"id\":132121980,\"type\":\"TXT\",\"name\":\"@\",\"data\":\"v=spf1 ip4:207.154.232.85 -all\",\"priority\":null,\"port\":null,\"ttl\":3600,\"weight\":null,\"flags\":null,\"tag\":null},{\"id\":132122049,\"type\":\"TXT\",\"name\":\"_dmarc\",\"data\":\"v=DMARC1;p=quarantine;\",\"priority\":null,\"port\":null,\"ttl\":3600,\"weight\":null,\"flags\":null,\"tag\":null},{\"id\":132124372,\"type\":\"TXT\",\"name\":\"dkim._domainkey\",\"data\":\"v=DKIM1;k=rsa;t=s;s=email;p=MIIBIjANBgkqhkiG9w0BAQEFAAOCAQ8AMIIBCgKCAQEA1JUc1zgGtI1eaSyAPm5aXXBSheDKryGN/zAQ2EPBqTfRniSC5TQFpyetH8uRRSLY4l5z99wtsXxa5fbcavI2MczKKDE2/4dfTOQty9pvehyf1Xx2aucCvIrJJGA6VcdkZfhg6ThEtZAK5C27BDOYNuVtEoieeNJA83+xiy+QOFy1M6w2NUVHkKO6nXKK5n5PF63Td5zg9TZAsrCi4g7tcaTl/8M7ODPfnxnmeWh6z/CegUudKVb4Gr9Vy2y9iy1X6d4iUzGyIFXHh5Y9eMOP0F5WAndLH9PPGBWbPq3bGPcPHa7l2Ad+hpVC2wP8dwc1Dcj/ErLtUuguffTJiDE3LQIDAQAB\",\"priority\":null,\"port\":null,\"ttl\":3600,\"weight\":null,\"flags\":null,\"tag\":null},{\"id\":132204188,\"type\":\"SRV\",\"name\":\"_autodiscover._tcp\",\"data\":\"mail.balderas.de\",\"priority\":0,\"port\":443,\"ttl\":43200,\"weight\":1,\"flags\":null,\"tag\":null},{\"id\":132204259,\"type\":\"SRV\",\"name\":\"_imaps._tcp\",\"data\":\"mail.balderas.de\",\"priority\":0,\"port\":993,\"ttl\":43200,\"weight\":1,\"flags\":null,\"tag\":null},{\"id\":132204330,\"type\":\"SRV\",\"name\":\"_smtps._tcp\",\"data\":\"mail.balderas.de\",\"priority\":0,\"port\":465,\"ttl\":43200,\"weight\":1,\"flags\":null,\"tag\":null},{\"id\":132204359,\"type\":\"SRV\",\"name\":\"_submission._tcp\",\"data\":\"mail.balderas.de\",\"priority\":0,\"port\":587,\"ttl\":43200,\"weight\":1,\"flags\":null,\"tag\":null},{\"id\":132204508,\"type\":\"SRV\",\"name\":\"_imap._tcp\",\"data\":\"mail.balderas.de\",\"priority\":0,\"port\":143,\"ttl\":43200,\"weight\":1,\"flags\":null,\"tag\":null},{\"id\":133219881,\"type\":\"A\",\"name\":\"@\",\"data\":\"46.101.136.74\",\"priority\":null,\"port\":null,\"ttl\":3600,\"weight\":null,\"flags\":null,\"tag\":null},{\"id\":133221287,\"type\":\"CNAME\",\"name\":\"autodiscover\",\"data\":\"mail.balderas.de\",\"priority\":null,\"port\":null,\"ttl\":1800,\"weight\":null,\"flags\":null,\"tag\":null},{\"id\":133221324,\"type\":\"CNAME\",\"name\":\"autoconfig\",\"data\":\"mail.balderas.de\",\"priority\":null,\"port\":null,\"ttl\":1800,\"weight\":null,\"flags\":null,\"tag\":null}],\"links\":{\"pages\":{\"last\":\"https://api.digitalocean.com/v2/domains/balderas.de/records?page=2&per_page=20\",\"next\":\"https://api.digitalocean.com/v2/domains/balderas.de/records?page=2&per_page=20\"}},\"meta\":{\"total\":31}}\\n'"
      ]
     },
     "execution_count": 9,
     "metadata": {},
     "output_type": "execute_result"
    }
   ],
   "source": [
    "r.text"
   ]
  },
  {
   "cell_type": "code",
   "execution_count": 10,
   "id": "progressive-testimony",
   "metadata": {
    "collapsed": true,
    "jupyter": {
     "outputs_hidden": true
    },
    "tags": []
   },
   "outputs": [
    {
     "data": {
      "text/plain": [
       "{'domain_records': [{'id': 129252812,\n",
       "   'type': 'SOA',\n",
       "   'name': '@',\n",
       "   'data': '1800',\n",
       "   'priority': None,\n",
       "   'port': None,\n",
       "   'ttl': 1800,\n",
       "   'weight': None,\n",
       "   'flags': None,\n",
       "   'tag': None},\n",
       "  {'id': 129252813,\n",
       "   'type': 'NS',\n",
       "   'name': '@',\n",
       "   'data': 'ns1.digitalocean.com',\n",
       "   'priority': None,\n",
       "   'port': None,\n",
       "   'ttl': 1800,\n",
       "   'weight': None,\n",
       "   'flags': None,\n",
       "   'tag': None},\n",
       "  {'id': 129252814,\n",
       "   'type': 'NS',\n",
       "   'name': '@',\n",
       "   'data': 'ns2.digitalocean.com',\n",
       "   'priority': None,\n",
       "   'port': None,\n",
       "   'ttl': 1800,\n",
       "   'weight': None,\n",
       "   'flags': None,\n",
       "   'tag': None},\n",
       "  {'id': 129252815,\n",
       "   'type': 'NS',\n",
       "   'name': '@',\n",
       "   'data': 'ns3.digitalocean.com',\n",
       "   'priority': None,\n",
       "   'port': None,\n",
       "   'ttl': 1800,\n",
       "   'weight': None,\n",
       "   'flags': None,\n",
       "   'tag': None},\n",
       "  {'id': 131389179,\n",
       "   'type': 'CNAME',\n",
       "   'name': 'cloud',\n",
       "   'data': 'balderas.cloudns.cl',\n",
       "   'priority': None,\n",
       "   'port': None,\n",
       "   'ttl': 1800,\n",
       "   'weight': None,\n",
       "   'flags': None,\n",
       "   'tag': None},\n",
       "  {'id': 131749821,\n",
       "   'type': 'CNAME',\n",
       "   'name': 'server',\n",
       "   'data': 'balderas.cloudns.cl',\n",
       "   'priority': None,\n",
       "   'port': None,\n",
       "   'ttl': 1800,\n",
       "   'weight': None,\n",
       "   'flags': None,\n",
       "   'tag': None},\n",
       "  {'id': 132096582,\n",
       "   'type': 'CNAME',\n",
       "   'name': '*',\n",
       "   'data': 'balderas.cloudns.cl',\n",
       "   'priority': None,\n",
       "   'port': None,\n",
       "   'ttl': 43200,\n",
       "   'weight': None,\n",
       "   'flags': None,\n",
       "   'tag': None},\n",
       "  {'id': 132100334,\n",
       "   'type': 'A',\n",
       "   'name': 'mail',\n",
       "   'data': '207.154.232.85',\n",
       "   'priority': None,\n",
       "   'port': None,\n",
       "   'ttl': 1800,\n",
       "   'weight': None,\n",
       "   'flags': None,\n",
       "   'tag': None},\n",
       "  {'id': 132121861,\n",
       "   'type': 'MX',\n",
       "   'name': '@',\n",
       "   'data': 'mail.balderas.de',\n",
       "   'priority': 0,\n",
       "   'port': None,\n",
       "   'ttl': 1800,\n",
       "   'weight': None,\n",
       "   'flags': None,\n",
       "   'tag': None},\n",
       "  {'id': 132121980,\n",
       "   'type': 'TXT',\n",
       "   'name': '@',\n",
       "   'data': 'v=spf1 ip4:207.154.232.85 -all',\n",
       "   'priority': None,\n",
       "   'port': None,\n",
       "   'ttl': 3600,\n",
       "   'weight': None,\n",
       "   'flags': None,\n",
       "   'tag': None},\n",
       "  {'id': 132122049,\n",
       "   'type': 'TXT',\n",
       "   'name': '_dmarc',\n",
       "   'data': 'v=DMARC1;p=quarantine;',\n",
       "   'priority': None,\n",
       "   'port': None,\n",
       "   'ttl': 3600,\n",
       "   'weight': None,\n",
       "   'flags': None,\n",
       "   'tag': None},\n",
       "  {'id': 132124372,\n",
       "   'type': 'TXT',\n",
       "   'name': 'dkim._domainkey',\n",
       "   'data': 'v=DKIM1;k=rsa;t=s;s=email;p=MIIBIjANBgkqhkiG9w0BAQEFAAOCAQ8AMIIBCgKCAQEA1JUc1zgGtI1eaSyAPm5aXXBSheDKryGN/zAQ2EPBqTfRniSC5TQFpyetH8uRRSLY4l5z99wtsXxa5fbcavI2MczKKDE2/4dfTOQty9pvehyf1Xx2aucCvIrJJGA6VcdkZfhg6ThEtZAK5C27BDOYNuVtEoieeNJA83+xiy+QOFy1M6w2NUVHkKO6nXKK5n5PF63Td5zg9TZAsrCi4g7tcaTl/8M7ODPfnxnmeWh6z/CegUudKVb4Gr9Vy2y9iy1X6d4iUzGyIFXHh5Y9eMOP0F5WAndLH9PPGBWbPq3bGPcPHa7l2Ad+hpVC2wP8dwc1Dcj/ErLtUuguffTJiDE3LQIDAQAB',\n",
       "   'priority': None,\n",
       "   'port': None,\n",
       "   'ttl': 3600,\n",
       "   'weight': None,\n",
       "   'flags': None,\n",
       "   'tag': None},\n",
       "  {'id': 132204188,\n",
       "   'type': 'SRV',\n",
       "   'name': '_autodiscover._tcp',\n",
       "   'data': 'mail.balderas.de',\n",
       "   'priority': 0,\n",
       "   'port': 443,\n",
       "   'ttl': 43200,\n",
       "   'weight': 1,\n",
       "   'flags': None,\n",
       "   'tag': None},\n",
       "  {'id': 132204259,\n",
       "   'type': 'SRV',\n",
       "   'name': '_imaps._tcp',\n",
       "   'data': 'mail.balderas.de',\n",
       "   'priority': 0,\n",
       "   'port': 993,\n",
       "   'ttl': 43200,\n",
       "   'weight': 1,\n",
       "   'flags': None,\n",
       "   'tag': None},\n",
       "  {'id': 132204330,\n",
       "   'type': 'SRV',\n",
       "   'name': '_smtps._tcp',\n",
       "   'data': 'mail.balderas.de',\n",
       "   'priority': 0,\n",
       "   'port': 465,\n",
       "   'ttl': 43200,\n",
       "   'weight': 1,\n",
       "   'flags': None,\n",
       "   'tag': None},\n",
       "  {'id': 132204359,\n",
       "   'type': 'SRV',\n",
       "   'name': '_submission._tcp',\n",
       "   'data': 'mail.balderas.de',\n",
       "   'priority': 0,\n",
       "   'port': 587,\n",
       "   'ttl': 43200,\n",
       "   'weight': 1,\n",
       "   'flags': None,\n",
       "   'tag': None},\n",
       "  {'id': 132204508,\n",
       "   'type': 'SRV',\n",
       "   'name': '_imap._tcp',\n",
       "   'data': 'mail.balderas.de',\n",
       "   'priority': 0,\n",
       "   'port': 143,\n",
       "   'ttl': 43200,\n",
       "   'weight': 1,\n",
       "   'flags': None,\n",
       "   'tag': None},\n",
       "  {'id': 133219881,\n",
       "   'type': 'A',\n",
       "   'name': '@',\n",
       "   'data': '46.101.136.74',\n",
       "   'priority': None,\n",
       "   'port': None,\n",
       "   'ttl': 3600,\n",
       "   'weight': None,\n",
       "   'flags': None,\n",
       "   'tag': None},\n",
       "  {'id': 133221287,\n",
       "   'type': 'CNAME',\n",
       "   'name': 'autodiscover',\n",
       "   'data': 'mail.balderas.de',\n",
       "   'priority': None,\n",
       "   'port': None,\n",
       "   'ttl': 1800,\n",
       "   'weight': None,\n",
       "   'flags': None,\n",
       "   'tag': None},\n",
       "  {'id': 133221324,\n",
       "   'type': 'CNAME',\n",
       "   'name': 'autoconfig',\n",
       "   'data': 'mail.balderas.de',\n",
       "   'priority': None,\n",
       "   'port': None,\n",
       "   'ttl': 1800,\n",
       "   'weight': None,\n",
       "   'flags': None,\n",
       "   'tag': None}],\n",
       " 'links': {'pages': {'last': 'https://api.digitalocean.com/v2/domains/balderas.de/records?page=2&per_page=20',\n",
       "   'next': 'https://api.digitalocean.com/v2/domains/balderas.de/records?page=2&per_page=20'}},\n",
       " 'meta': {'total': 31}}"
      ]
     },
     "execution_count": 10,
     "metadata": {},
     "output_type": "execute_result"
    }
   ],
   "source": [
    "r.json()"
   ]
  },
  {
   "cell_type": "code",
   "execution_count": 27,
   "id": "announced-pointer",
   "metadata": {},
   "outputs": [],
   "source": [
    "data = {\n",
    "  \"type\": \"A\",\n",
    "  \"name\": \"test\",\n",
    "  \"data\": f\"{current_ip}\"\n",
    "}"
   ]
  },
  {
   "cell_type": "code",
   "execution_count": 31,
   "id": "substantial-mistress",
   "metadata": {},
   "outputs": [
    {
     "data": {
      "text/plain": [
       "{'type': 'A', 'name': 'test', 'data': '5.63.59.58'}"
      ]
     },
     "execution_count": 31,
     "metadata": {},
     "output_type": "execute_result"
    }
   ],
   "source": [
    "data"
   ]
  },
  {
   "cell_type": "code",
   "execution_count": 49,
   "id": "efficient-strike",
   "metadata": {},
   "outputs": [],
   "source": [
    "r = requests.post(url, headers=headers, data=data)"
   ]
  },
  {
   "cell_type": "code",
   "execution_count": 50,
   "id": "another-google",
   "metadata": {},
   "outputs": [
    {
     "data": {
      "text/plain": [
       "400"
      ]
     },
     "execution_count": 50,
     "metadata": {},
     "output_type": "execute_result"
    }
   ],
   "source": [
    "r.status_code"
   ]
  },
  {
   "cell_type": "code",
   "execution_count": 30,
   "id": "dirty-zoning",
   "metadata": {},
   "outputs": [
    {
     "data": {
      "text/plain": [
       "'{\"id\":\"bad_request\",\"message\":\"invalid character \\'y\\' in literal true (expecting \\'r\\')\",\"request_id\":\"947b5b6e-9e10-432d-ba3a-81848574e7fa\"}\\n'"
      ]
     },
     "execution_count": 30,
     "metadata": {},
     "output_type": "execute_result"
    }
   ],
   "source": [
    "r.text"
   ]
  },
  {
   "cell_type": "code",
   "execution_count": null,
   "id": "human-frank",
   "metadata": {},
   "outputs": [],
   "source": []
  },
  {
   "cell_type": "code",
   "execution_count": null,
   "id": "saved-magnet",
   "metadata": {},
   "outputs": [],
   "source": []
  },
  {
   "cell_type": "code",
   "execution_count": null,
   "id": "graphic-juvenile",
   "metadata": {},
   "outputs": [],
   "source": []
  },
  {
   "cell_type": "code",
   "execution_count": 18,
   "id": "reasonable-union",
   "metadata": {},
   "outputs": [
    {
     "data": {
      "text/plain": [
       "{'type': 'A',\n",
       " 'name': 'www',\n",
       " 'data': '5.63.59.58',\n",
       " 'priority': None,\n",
       " 'port': None,\n",
       " 'ttl': 1800,\n",
       " 'weight': None,\n",
       " 'flags': None,\n",
       " 'tag': None}"
      ]
     },
     "execution_count": 18,
     "metadata": {},
     "output_type": "execute_result"
    }
   ],
   "source": [
    "data"
   ]
  },
  {
   "cell_type": "code",
   "execution_count": 12,
   "id": "recognized-mouth",
   "metadata": {},
   "outputs": [],
   "source": [
    "r2 = requests.get(\"https://ifconfig.me\")"
   ]
  },
  {
   "cell_type": "code",
   "execution_count": 13,
   "id": "moving-primary",
   "metadata": {},
   "outputs": [
    {
     "data": {
      "text/plain": [
       "'5.63.59.58'"
      ]
     },
     "execution_count": 13,
     "metadata": {},
     "output_type": "execute_result"
    }
   ],
   "source": [
    "r2.text"
   ]
  },
  {
   "cell_type": "code",
   "execution_count": null,
   "id": "alpine-affect",
   "metadata": {},
   "outputs": [],
   "source": []
  }
 ],
 "metadata": {
  "kernelspec": {
   "display_name": "Python 3",
   "language": "python",
   "name": "python3"
  },
  "language_info": {
   "codemirror_mode": {
    "name": "ipython",
    "version": 3
   },
   "file_extension": ".py",
   "mimetype": "text/x-python",
   "name": "python",
   "nbconvert_exporter": "python",
   "pygments_lexer": "ipython3",
   "version": "3.8.5"
  }
 },
 "nbformat": 4,
 "nbformat_minor": 5
}
